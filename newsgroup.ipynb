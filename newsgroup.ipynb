{
 "cells": [
  {
   "cell_type": "code",
   "execution_count": 1,
   "metadata": {},
   "outputs": [],
   "source": [
    "from sklearn.datasets import fetch_20newsgroups\n",
    "from sklearn.feature_extraction.text import *\n",
    "from sklearn import metrics, model_selection\n",
    "from sklearn.cluster import KMeans\n",
    "from sklearn.svm import SVC\n",
    "from sklearn.ensemble import RandomForestClassifier\n",
    "from sklearn.naive_bayes import MultinomialNB\n",
    "from sklearn.tree import DecisionTreeClassifier\n",
    "from sklearn.preprocessing import normalize\n",
    "import nltk\n",
    "import numpy as np"
   ]
  },
  {
   "cell_type": "markdown",
   "metadata": {},
   "source": [
    "#### Download data from http://qwone.com/~jason/20Newsgroups/"
   ]
  },
  {
   "cell_type": "code",
   "execution_count": 2,
   "metadata": {},
   "outputs": [
    {
     "name": "stderr",
     "output_type": "stream",
     "text": [
      "Downloading 20news dataset. This may take a few minutes.\n",
      "Downloading dataset from https://ndownloader.figshare.com/files/5975967 (14 MB)\n"
     ]
    }
   ],
   "source": [
    "# use four categories\n",
    "categories = [\n",
    "    'alt.atheism',\n",
    "    'talk.religion.misc',\n",
    "    'comp.graphics',\n",
    "    'sci.space',\n",
    "]\n",
    "\n",
    "dataset = fetch_20newsgroups(subset='all', shuffle=True, random_state=42, categories=categories)"
   ]
  },
  {
   "cell_type": "code",
   "execution_count": 3,
   "metadata": {},
   "outputs": [
    {
     "name": "stdout",
     "output_type": "stream",
     "text": [
      "3387 documents\n",
      "4 categories\n"
     ]
    }
   ],
   "source": [
    "# dataset.data is a list of documents\n",
    "print(\"%d documents\" % len(dataset.data))\n",
    "print(\"%d categories\" % len(dataset.target_names))"
   ]
  },
  {
   "cell_type": "code",
   "execution_count": 52,
   "metadata": {},
   "outputs": [
    {
     "data": {
      "text/plain": [
       "'From: healta@saturn.wwc.edu (Tammy R Healy)\\nSubject: Re: who are we to judge, Bobby?\\nLines: 38\\nOrganization: Walla Walla College\\nLines: 38\\n\\nIn article <1993Apr14.213356.22176@ultb.isc.rit.edu> snm6394@ultb.isc.rit.edu (S.N. Mozumder ) writes:\\n>From: snm6394@ultb.isc.rit.edu (S.N. Mozumder )\\n>Subject: Re: who are we to judge, Bobby?\\n>Date: Wed, 14 Apr 1993 21:33:56 GMT\\n>In article <healta.56.734556346@saturn.wwc.edu> healta@saturn.wwc.edu (TAMMY R HEALY) writes:\\n>>Bobby,\\n>>\\n>>I would like to take the liberty to quote from a Christian writer named \\n>>Ellen G. White.  I hope that what she said will help you to edit your \\n>>remarks in this group in the future.\\n>>\\n>>\"Do not set yourself as a standard.  Do not make your opinions, your views \\n>>of duty, your interpretations of scripture, a criterion for others and in \\n>>your heart condemn them if they do not come up to your ideal.\"\\n>>                         Thoughts Fromthe Mount of Blessing p. 124\\n>>\\n>>I hope quoting this doesn\\'t make the atheists gag, but I think Ellen White \\n>>put it better than I could.\\n>> \\n>>Tammy\\n>\\n>Point?\\n>\\n>Peace,\\n>\\n>Bobby Mozumder\\n>\\nMy point is that you set up your views as the only way to believe.  Saying \\nthat all eveil in this world is caused by atheism is ridiculous and \\ncounterproductive to dialogue in this newsgroups.  I see in your posts a \\nspirit of condemnation of the atheists in this newsgroup bacause they don\\'\\nt believe exactly as you do.  If you\\'re here to try to convert the atheists \\nhere, you\\'re failing miserably.  Who wants to be in position of constantly \\ndefending themselves agaist insulting attacks, like you seem to like to do?!\\nI\\'m sorry you\\'re so blind that you didn\\'t get the messgae in the quote, \\neveryone else has seemed to.\\n\\nTammy\\n'"
      ]
     },
     "execution_count": 52,
     "metadata": {},
     "output_type": "execute_result"
    }
   ],
   "source": [
    "# examine the first document\n",
    "dataset.data[0]"
   ]
  },
  {
   "cell_type": "markdown",
   "metadata": {},
   "source": [
    "### Preprocessing and calculate token frequency"
   ]
  },
  {
   "cell_type": "code",
   "execution_count": 53,
   "metadata": {},
   "outputs": [
    {
     "name": "stdout",
     "output_type": "stream",
     "text": [
      "['healta', 'saturn', 'wwc', 'edu', 'tammi', 'heali', 'subject', 'judg', 'bobbi', 'line', 'organ', 'walla', 'walla', 'colleg', 'line', 'articl', '1993apr14', 'ultb', 'isc', 'rit', 'edu', 'snm6394', 'ultb', 'isc', 'rit', 'edu', 'mozumd', 'write', 'snm6394', 'ultb', 'isc', 'rit', 'edu', 'mozumd', 'subject', 'judg', 'bobbi', 'date', 'wed', 'apr', 'gmt', 'articl', 'healta', 'saturn', 'wwc', 'edu', 'healta', 'saturn', 'wwc', 'edu', 'tammi', 'heali', 'write', 'bobbi', 'would', 'like', 'take', 'liberti', 'quot', 'christian', 'writer', 'name', 'ellen', 'white', 'hope', 'said', 'help', 'edit', 'remark', 'group', 'futur', 'set', 'standard', 'make', 'opinion', 'view', 'duti', 'interpret', 'scriptur', 'criterion', 'other', 'heart', 'condemn', 'come', 'ideal', 'thought', 'fromth', 'mount', 'bless', 'hope', 'quot', 'make', 'atheist', 'gag', 'think', 'ellen', 'white', 'put', 'better', 'could', 'tammi', 'point', 'peac', 'bobbi', 'mozumd', 'point', 'set', 'view', 'way', 'believ', 'say', 'eveil', 'world', 'caus', 'atheism', 'ridicul', 'counterproduct', 'dialogu', 'newsgroup', 'see', 'post', 'spirit', 'condemn', 'atheist', 'newsgroup', 'bacaus', 'believ', 'exactli', 'tri', 'convert', 'atheist', 'fail', 'miser', 'want', 'posit', 'constantli', 'defend', 'agaist', 'insult', 'attack', 'like', 'seem', 'like', 'sorri', 'blind', 'get', 'messga', 'quot', 'everyon', 'els', 'seem', 'tammi']\n"
     ]
    }
   ],
   "source": [
    "# get a set of stopwords\n",
    "stopwords = set(nltk.corpus.stopwords.words(\"english\"))\n",
    "\n",
    "import re\n",
    "def before_token(documents):\n",
    "    # conver words to lower case\n",
    "    lower = map(str.lower, documents)\n",
    "    # remove puntuations\n",
    "    punctuationless = list(map(lambda x: \" \".join(re.findall('\\\\b\\\\w\\\\w+\\\\b',x)), lower))\n",
    "    # remove numbers\n",
    "    return list(map(lambda x:re.sub('\\\\b[0-9]+\\\\b', '', x), punctuationless))\n",
    "\n",
    "# initialize a stemmer\n",
    "stemmer = nltk.stem.PorterStemmer()\n",
    "\n",
    "# initialize a container of token frequencies\n",
    "fdist = nltk.FreqDist()\n",
    "\n",
    "\n",
    "# define a function that preprocess a single document and returns a list of tokens\n",
    "def preprocess(doc):\n",
    "    tokens = []\n",
    "    for token in doc.split():\n",
    "        if token not in stopwords:\n",
    "            tokens.append(stemmer.stem(token))\n",
    "    return tokens\n",
    "            \n",
    "# preprocess all documents\n",
    "processed = list(map(preprocess, before_token(dataset.data)))\n",
    "print(processed[0])"
   ]
  },
  {
   "cell_type": "code",
   "execution_count": 54,
   "metadata": {},
   "outputs": [
    {
     "data": {
      "text/plain": [
       "'run'"
      ]
     },
     "execution_count": 54,
     "metadata": {},
     "output_type": "execute_result"
    }
   ],
   "source": [
    "# a single stemming example\n",
    "stemmer.stem(\"running\")"
   ]
  },
  {
   "cell_type": "code",
   "execution_count": 55,
   "metadata": {},
   "outputs": [],
   "source": [
    "# calculate the token frequency\n",
    "# the FreqDist function takes in a list of tokens and return a dict containg unique tokens and frequency\n",
    "fdist = nltk.FreqDist([token for doc in processed for token in doc])"
   ]
  },
  {
   "cell_type": "code",
   "execution_count": 56,
   "metadata": {},
   "outputs": [
    {
     "name": "stdout",
     "output_type": "stream",
     "text": [
      "Unique tokens: 29516\n",
      "Total tokens: 616278\n",
      "Tokens occurred only once: 10320\n"
     ]
    }
   ],
   "source": [
    "print(\"Unique tokens: %d\" % fdist.B())\n",
    "print(\"Total tokens: %d\" % fdist.N())\n",
    "print(\"Tokens occurred only once: %d\" % len(fdist.hapaxes()))"
   ]
  },
  {
   "cell_type": "code",
   "execution_count": 57,
   "metadata": {},
   "outputs": [
    {
     "data": {
      "text/plain": [
       "'edu'"
      ]
     },
     "execution_count": 57,
     "metadata": {},
     "output_type": "execute_result"
    }
   ],
   "source": [
    "# check the token having the maximum frequency\n",
    "fdist.max()"
   ]
  },
  {
   "cell_type": "code",
   "execution_count": 58,
   "metadata": {},
   "outputs": [
    {
     "data": {
      "text/plain": [
       "7061"
      ]
     },
     "execution_count": 58,
     "metadata": {},
     "output_type": "execute_result"
    }
   ],
   "source": [
    "# check the frequency of the above token\n",
    "fdist[fdist.max()]"
   ]
  },
  {
   "cell_type": "code",
   "execution_count": 59,
   "metadata": {},
   "outputs": [
    {
     "data": {
      "image/png": "[encoded data removed]",
      "text/plain": [
       "<Figure size 432x288 with 1 Axes>"
      ]
     },
     "metadata": {
      "needs_background": "light"
     },
     "output_type": "display_data"
    }
   ],
   "source": [
    "\"%matplotlib inline\"\n",
    "fdist.plot(100)"
   ]
  },
  {
   "cell_type": "code",
   "execution_count": 60,
   "metadata": {},
   "outputs": [
    {
     "name": "stdout",
     "output_type": "stream",
     "text": [
      "    edu    line subject   organ     com \n",
      "   7061    4048    3807    3544    3326 \n"
     ]
    }
   ],
   "source": [
    "fdist.tabulate(5)"
   ]
  },
  {
   "cell_type": "markdown",
   "metadata": {},
   "source": [
    "#### Vectorize the data"
   ]
  },
  {
   "cell_type": "code",
   "execution_count": 61,
   "metadata": {},
   "outputs": [],
   "source": [
    "processed_doc = list(map(\" \".join, processed))\n",
    "# normalization is needed for clustering\n",
    "vectorizer = TfidfVectorizer(max_df=0.8, stop_words='english')\n",
    "X = vectorizer.fit_transform(processed_doc)"
   ]
  },
  {
   "cell_type": "code",
   "execution_count": 62,
   "metadata": {},
   "outputs": [
    {
     "name": "stdout",
     "output_type": "stream",
     "text": [
      "n_samples: 3387, n_features: 29357\n"
     ]
    }
   ],
   "source": [
    "print(\"n_samples: %d, n_features: %d\" % X.shape)"
   ]
  },
  {
   "cell_type": "code",
   "execution_count": 63,
   "metadata": {},
   "outputs": [
    {
     "data": {
      "text/plain": [
       "KMeans(algorithm='auto', copy_x=True, init='k-means++', max_iter=100,\n",
       "    n_clusters=4, n_init=10, n_jobs=None, precompute_distances='auto',\n",
       "    random_state=54321, tol=0.0001, verbose=0)"
      ]
     },
     "execution_count": 63,
     "metadata": {},
     "output_type": "execute_result"
    }
   ],
   "source": [
    "km = KMeans(n_clusters=len(categories), max_iter=100, random_state=54321)\n",
    "# km = KMeans(n_clusters=8, max_iter=100, random_state=54321)\n",
    "km.fit(X)"
   ]
  },
  {
   "cell_type": "code",
   "execution_count": 64,
   "metadata": {},
   "outputs": [
    {
     "data": {
      "text/plain": [
       "array([[0.99157666, 0.98074555, 1.08337499, 1.01058138],\n",
       "       [0.99106105, 1.01222723, 1.09894713, 1.01574801],\n",
       "       [0.99409988, 1.01635047, 1.10173921, 1.01455912],\n",
       "       ...,\n",
       "       [0.99109775, 1.00667103, 1.08946444, 0.9719261 ],\n",
       "       [0.98969249, 1.01030374, 1.08824452, 1.01297934],\n",
       "       [0.98307634, 1.01162261, 1.0987947 , 1.00612531]])"
      ]
     },
     "execution_count": 64,
     "metadata": {},
     "output_type": "execute_result"
    }
   ],
   "source": [
    "# examine each document's distance to each cluster\n",
    "km.transform(X)"
   ]
  },
  {
   "cell_type": "code",
   "execution_count": 65,
   "metadata": {},
   "outputs": [
    {
     "data": {
      "text/plain": [
       "array([1])"
      ]
     },
     "execution_count": 65,
     "metadata": {},
     "output_type": "execute_result"
    }
   ],
   "source": [
    "km.predict(X[0])"
   ]
  },
  {
   "cell_type": "code",
   "execution_count": 66,
   "metadata": {},
   "outputs": [
    {
     "data": {
      "text/plain": [
       "0"
      ]
     },
     "execution_count": 66,
     "metadata": {},
     "output_type": "execute_result"
    }
   ],
   "source": [
    "dataset.target[0] # don't worry about this "
   ]
  },
  {
   "cell_type": "code",
   "execution_count": 67,
   "metadata": {},
   "outputs": [
    {
     "name": "stdout",
     "output_type": "stream",
     "text": [
      "Cluster 0:\n",
      " edu\n",
      " com\n",
      " imag\n",
      " graphic\n",
      " univers\n",
      " post\n",
      " file\n",
      " use\n",
      " write\n",
      " comput\n",
      "Cluster 1:\n",
      " god\n",
      " moral\n",
      " edu\n",
      " say\n",
      " christian\n",
      " peopl\n",
      " com\n",
      " keith\n",
      " write\n",
      " atheist\n",
      "Cluster 2:\n",
      " sandvik\n",
      " kent\n",
      " appl\n",
      " newton\n",
      " com\n",
      " christian\n",
      " ksand\n",
      " alink\n",
      " cookamunga\n",
      " tourist\n",
      "Cluster 3:\n",
      " space\n",
      " henri\n",
      " nasa\n",
      " access\n",
      " digex\n",
      " toronto\n",
      " edu\n",
      " orbit\n",
      " pat\n",
      " alaska\n"
     ]
    }
   ],
   "source": [
    "# examine the representative words for each cluster\n",
    "order_centroids = km.cluster_centers_.argsort()[:, ::-1]\n",
    "terms = vectorizer.get_feature_names()\n",
    "for i in range(len(categories)):\n",
    "    print(\"Cluster %d:\" % i)\n",
    "    for ind in order_centroids[i, :10]:\n",
    "        print(' %s' % terms[ind])\n",
    "    print"
   ]
  },
  {
   "cell_type": "markdown",
   "metadata": {},
   "source": [
    "#### 10 fold cross validation using linear SVM"
   ]
  },
  {
   "cell_type": "markdown",
   "metadata": {},
   "source": [
    "This implementation of SVM uses one-vs-one for multi-class classification"
   ]
  },
  {
   "cell_type": "code",
   "execution_count": 68,
   "metadata": {},
   "outputs": [
    {
     "name": "stdout",
     "output_type": "stream",
     "text": [
      "Fold 1\n",
      "Number of features: 27886\n",
      "              precision    recall  f1-score   support\n",
      "\n",
      "           0       0.94      0.97      0.96        80\n",
      "           1       0.96      0.98      0.97        98\n",
      "           2       0.99      0.98      0.98        99\n",
      "           3       0.97      0.90      0.93        63\n",
      "\n",
      "   micro avg       0.96      0.96      0.96       340\n",
      "   macro avg       0.96      0.96      0.96       340\n",
      "weighted avg       0.97      0.96      0.96       340\n",
      "\n",
      "Fold 2\n",
      "Number of features: 27811\n",
      "              precision    recall  f1-score   support\n",
      "\n",
      "           0       0.92      0.97      0.95        80\n",
      "           1       0.98      1.00      0.99        98\n",
      "           2       1.00      0.97      0.98        99\n",
      "           3       0.95      0.89      0.92        63\n",
      "\n",
      "   micro avg       0.96      0.96      0.96       340\n",
      "   macro avg       0.96      0.96      0.96       340\n",
      "weighted avg       0.97      0.96      0.96       340\n",
      "\n",
      "Fold 3\n",
      "Number of features: 27899\n",
      "              precision    recall  f1-score   support\n",
      "\n",
      "           0       0.97      0.95      0.96        80\n",
      "           1       0.95      1.00      0.98        98\n",
      "           2       1.00      0.97      0.98        99\n",
      "           3       0.94      0.94      0.94        63\n",
      "\n",
      "   micro avg       0.97      0.97      0.97       340\n",
      "   macro avg       0.97      0.96      0.96       340\n",
      "weighted avg       0.97      0.97      0.97       340\n",
      "\n",
      "Fold 4\n",
      "Number of features: 28235\n",
      "              precision    recall  f1-score   support\n",
      "\n",
      "           0       0.97      0.94      0.96        80\n",
      "           1       0.94      1.00      0.97        97\n",
      "           2       1.00      0.96      0.98        99\n",
      "           3       0.94      0.95      0.94        63\n",
      "\n",
      "   micro avg       0.96      0.96      0.96       339\n",
      "   macro avg       0.96      0.96      0.96       339\n",
      "weighted avg       0.97      0.96      0.96       339\n",
      "\n",
      "Fold 5\n",
      "Number of features: 28125\n",
      "              precision    recall  f1-score   support\n",
      "\n",
      "           0       0.98      1.00      0.99        80\n",
      "           1       0.98      0.98      0.98        97\n",
      "           2       0.98      0.98      0.98        99\n",
      "           3       1.00      0.97      0.98        63\n",
      "\n",
      "   micro avg       0.98      0.98      0.98       339\n",
      "   macro avg       0.98      0.98      0.98       339\n",
      "weighted avg       0.98      0.98      0.98       339\n",
      "\n",
      "Fold 6\n",
      "Number of features: 28153\n",
      "              precision    recall  f1-score   support\n",
      "\n",
      "           0       0.95      0.90      0.92        80\n",
      "           1       0.94      1.00      0.97        97\n",
      "           2       0.99      0.96      0.97        99\n",
      "           3       0.91      0.92      0.91        63\n",
      "\n",
      "   micro avg       0.95      0.95      0.95       339\n",
      "   macro avg       0.95      0.95      0.95       339\n",
      "weighted avg       0.95      0.95      0.95       339\n",
      "\n",
      "Fold 7\n",
      "Number of features: 28202\n",
      "              precision    recall  f1-score   support\n",
      "\n",
      "           0       0.94      0.94      0.94        80\n",
      "           1       0.95      1.00      0.97        97\n",
      "           2       0.99      0.97      0.98        99\n",
      "           3       0.93      0.89      0.91        63\n",
      "\n",
      "   micro avg       0.96      0.96      0.96       339\n",
      "   macro avg       0.95      0.95      0.95       339\n",
      "weighted avg       0.96      0.96      0.96       339\n",
      "\n",
      "Fold 8\n",
      "Number of features: 28070\n",
      "              precision    recall  f1-score   support\n",
      "\n",
      "           0       0.94      0.93      0.93        80\n",
      "           1       0.99      1.00      0.99        97\n",
      "           2       0.98      0.99      0.98        98\n",
      "           3       0.92      0.90      0.91        63\n",
      "\n",
      "   micro avg       0.96      0.96      0.96       338\n",
      "   macro avg       0.96      0.95      0.96       338\n",
      "weighted avg       0.96      0.96      0.96       338\n",
      "\n",
      "Fold 9\n",
      "Number of features: 27867\n",
      "              precision    recall  f1-score   support\n",
      "\n",
      "           0       0.99      0.93      0.95        80\n",
      "           1       0.97      1.00      0.98        97\n",
      "           2       1.00      0.97      0.98        98\n",
      "           3       0.91      0.98      0.95        62\n",
      "\n",
      "   micro avg       0.97      0.97      0.97       337\n",
      "   macro avg       0.97      0.97      0.97       337\n",
      "weighted avg       0.97      0.97      0.97       337\n",
      "\n",
      "Fold 10\n",
      "Number of features: 28230\n",
      "              precision    recall  f1-score   support\n",
      "\n",
      "           0       0.95      0.96      0.96        79\n",
      "           1       0.98      1.00      0.99        97\n",
      "           2       1.00      0.99      0.99        98\n",
      "           3       0.95      0.92      0.93        62\n",
      "\n",
      "   micro avg       0.97      0.97      0.97       336\n",
      "   macro avg       0.97      0.97      0.97       336\n",
      "weighted avg       0.97      0.97      0.97       336\n",
      "\n"
     ]
    }
   ],
   "source": [
    "skf = model_selection.StratifiedKFold(n_splits=10)\n",
    "fold = 0\n",
    "for train_index, test_index in skf.split(np.array(processed_doc), dataset.target):\n",
    "    fold += 1\n",
    "    print(\"Fold %d\" % fold)\n",
    "    # partition\n",
    "    train_x, test_x = np.array(processed_doc)[train_index], np.array(processed_doc)[test_index]\n",
    "    train_y, test_y = dataset.target[train_index], dataset.target[test_index]\n",
    "    # vectorize\n",
    "    vectorizer = TfidfVectorizer(max_df=0.8, stop_words='english')\n",
    "    X = vectorizer.fit_transform(train_x)\n",
    "    print(\"Number of features: %d\" % len(vectorizer.vocabulary_))\n",
    "    X_test = vectorizer.transform(test_x)\n",
    "    # train model\n",
    "    clf = SVC(kernel=\"linear\")\n",
    "    clf.fit(X, train_y)\n",
    "    # predict\n",
    "    pred = clf.predict(X_test)\n",
    "    # classification results\n",
    "    for line in metrics.classification_report(test_y, pred).split(\"\\n\"):\n",
    "        print(line)"
   ]
  },
  {
   "cell_type": "code",
   "execution_count": null,
   "metadata": {},
   "outputs": [],
   "source": []
  }
 ],
 "metadata": {
  "kernelspec": {
   "display_name": "Python 3",
   "language": "python",
   "name": "python3"
  },
  "language_info": {
   "codemirror_mode": {
    "name": "ipython",
    "version": 3
   },
   "file_extension": ".py",
   "mimetype": "text/x-python",
   "name": "python",
   "nbconvert_exporter": "python",
   "pygments_lexer": "ipython3",
   "version": "3.6.7"
  }
 },
 "nbformat": 4,
 "nbformat_minor": 1
}
