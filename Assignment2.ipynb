{
 "cells": [
  {
   "cell_type": "markdown",
   "metadata": {},
   "source": [
    "## Jeremiah Lowhorn\n",
    "## Assignment 2\n",
    "## INFS 770\n",
    "## 3/7/2019"
   ]
  },
  {
   "cell_type": "code",
   "execution_count": 182,
   "metadata": {},
   "outputs": [],
   "source": [
    "import pandas as pd\n",
    "import numpy as np\n",
    "# import the functions for cosine distance, euclidean distance, and the correlation distance\n",
    "from scipy.spatial.distance import cosine, euclidean"
   ]
  },
  {
   "cell_type": "code",
   "execution_count": 183,
   "metadata": {},
   "outputs": [],
   "source": [
    "Df = pd.read_csv('C:/Users/jlowh001/Desktop/INFS 770 Assignment 2/DBbook_train_ratings.tsv', sep='\\t')"
   ]
  },
  {
   "cell_type": "code",
   "execution_count": 184,
   "metadata": {},
   "outputs": [
    {
     "data": {
      "text/html": [
       "<div>\n",
       "<style scoped>\n",
       "    .dataframe tbody tr th:only-of-type {\n",
       "        vertical-align: middle;\n",
       "    }\n",
       "\n",
       "    .dataframe tbody tr th {\n",
       "        vertical-align: top;\n",
       "    }\n",
       "\n",
       "    .dataframe thead th {\n",
       "        text-align: right;\n",
       "    }\n",
       "</style>\n",
       "<table border=\"1\" class=\"dataframe\">\n",
       "  <thead>\n",
       "    <tr style=\"text-align: right;\">\n",
       "      <th></th>\n",
       "      <th>userID</th>\n",
       "      <th>itemID</th>\n",
       "      <th>rate</th>\n",
       "    </tr>\n",
       "  </thead>\n",
       "  <tbody>\n",
       "    <tr>\n",
       "      <th>0</th>\n",
       "      <td>6873</td>\n",
       "      <td>3201</td>\n",
       "      <td>4</td>\n",
       "    </tr>\n",
       "    <tr>\n",
       "      <th>1</th>\n",
       "      <td>6873</td>\n",
       "      <td>3098</td>\n",
       "      <td>4</td>\n",
       "    </tr>\n",
       "    <tr>\n",
       "      <th>2</th>\n",
       "      <td>6873</td>\n",
       "      <td>4198</td>\n",
       "      <td>4</td>\n",
       "    </tr>\n",
       "    <tr>\n",
       "      <th>3</th>\n",
       "      <td>6873</td>\n",
       "      <td>5950</td>\n",
       "      <td>4</td>\n",
       "    </tr>\n",
       "    <tr>\n",
       "      <th>4</th>\n",
       "      <td>6873</td>\n",
       "      <td>204</td>\n",
       "      <td>4</td>\n",
       "    </tr>\n",
       "  </tbody>\n",
       "</table>\n",
       "</div>"
      ],
      "text/plain": [
       "   userID  itemID  rate\n",
       "0    6873    3201     4\n",
       "1    6873    3098     4\n",
       "2    6873    4198     4\n",
       "3    6873    5950     4\n",
       "4    6873     204     4"
      ]
     },
     "execution_count": 184,
     "metadata": {},
     "output_type": "execute_result"
    }
   ],
   "source": [
    "Df.head()"
   ]
  },
  {
   "cell_type": "code",
   "execution_count": 185,
   "metadata": {},
   "outputs": [
    {
     "name": "stdout",
     "output_type": "stream",
     "text": [
      "<class 'pandas.core.frame.DataFrame'>\n",
      "RangeIndex: 75558 entries, 0 to 75557\n",
      "Data columns (total 3 columns):\n",
      "userID    75558 non-null int64\n",
      "itemID    75558 non-null int64\n",
      "rate      75558 non-null int64\n",
      "dtypes: int64(3)\n",
      "memory usage: 1.7 MB\n"
     ]
    }
   ],
   "source": [
    "Df.info()"
   ]
  },
  {
   "cell_type": "markdown",
   "metadata": {},
   "source": [
    "## Q1. Please write code to print the number of unique users and the number of unique books in this data set."
   ]
  },
  {
   "cell_type": "code",
   "execution_count": 186,
   "metadata": {},
   "outputs": [
    {
     "name": "stdout",
     "output_type": "stream",
     "text": [
      "Number of Unique Users: 6181\n"
     ]
    }
   ],
   "source": [
    "print('Number of Unique Users: '+str(len(Df.userID.unique())))"
   ]
  },
  {
   "cell_type": "code",
   "execution_count": 187,
   "metadata": {},
   "outputs": [
    {
     "name": "stdout",
     "output_type": "stream",
     "text": [
      "Number of Unique Books: 6166\n"
     ]
    }
   ],
   "source": [
    "print('Number of Unique Books: '+str(len(Df.itemID.unique())))"
   ]
  },
  {
   "cell_type": "markdown",
   "metadata": {},
   "source": [
    "## Q2. Please write code to create the utility matrix. Each row of this matrix represents a user, and each column represents an item. Print the first 10 rows of matrix. Please write code to print the number and the percentage of cells in the utility matrix that are not populated. Please write code to fill these empty cells with 0s."
   ]
  },
  {
   "cell_type": "code",
   "execution_count": 188,
   "metadata": {},
   "outputs": [
    {
     "name": "stdout",
     "output_type": "stream",
     "text": [
      "Shape of the user-item matrix: 6181 x 6166\n",
      "itemID  1     2     3     5     7     8     9     11    12    13    ...   \\\n",
      "userID                                                              ...    \n",
      "1        NaN   NaN   NaN   NaN   NaN   NaN   NaN   NaN   NaN   NaN  ...    \n",
      "2        NaN   NaN   NaN   NaN   NaN   NaN   NaN   NaN   NaN   NaN  ...    \n",
      "3        NaN   NaN   NaN   NaN   NaN   NaN   NaN   NaN   NaN   NaN  ...    \n",
      "4        NaN   NaN   NaN   NaN   NaN   NaN   NaN   NaN   NaN   NaN  ...    \n",
      "5        NaN   NaN   NaN   NaN   NaN   NaN   NaN   NaN   NaN   NaN  ...    \n",
      "6        NaN   NaN   NaN   NaN   NaN   NaN   NaN   NaN   NaN   NaN  ...    \n",
      "7        NaN   NaN   NaN   NaN   NaN   NaN   NaN   NaN   NaN   NaN  ...    \n",
      "8        NaN   NaN   NaN   NaN   NaN   NaN   NaN   NaN   NaN   NaN  ...    \n",
      "9        NaN   NaN   NaN   NaN   NaN   NaN   NaN   NaN   NaN   NaN  ...    \n",
      "10       NaN   NaN   NaN   NaN   NaN   NaN   NaN   NaN   NaN   NaN  ...    \n",
      "\n",
      "itemID  8157  8160  8161  8162  8163  8164  8166  8167  8168  8169  \n",
      "userID                                                              \n",
      "1        NaN   NaN   NaN   NaN   NaN   NaN   NaN   NaN   NaN   NaN  \n",
      "2        NaN   NaN   NaN   NaN   NaN   NaN   NaN   NaN   NaN   NaN  \n",
      "3        NaN   NaN   NaN   NaN   NaN   NaN   NaN   NaN   NaN   NaN  \n",
      "4        NaN   NaN   NaN   NaN   NaN   NaN   NaN   NaN   4.0   NaN  \n",
      "5        NaN   NaN   NaN   NaN   NaN   NaN   NaN   NaN   NaN   NaN  \n",
      "6        NaN   NaN   NaN   NaN   NaN   NaN   NaN   NaN   4.0   NaN  \n",
      "7        NaN   NaN   NaN   NaN   NaN   NaN   NaN   NaN   NaN   NaN  \n",
      "8        NaN   NaN   NaN   NaN   NaN   NaN   NaN   NaN   NaN   NaN  \n",
      "9        NaN   NaN   NaN   NaN   NaN   NaN   NaN   NaN   NaN   NaN  \n",
      "10       NaN   NaN   NaN   NaN   NaN   NaN   NaN   NaN   NaN   NaN  \n",
      "\n",
      "[10 rows x 6166 columns]\n"
     ]
    }
   ],
   "source": [
    "dense_matrix = Df.pivot_table(values=\"rate\", index=[\"userID\"], columns=[\"itemID\"])\n",
    "print(\"Shape of the user-item matrix: %d x %d\" % dense_matrix.shape)\n",
    "print(dense_matrix.head(10))"
   ]
  },
  {
   "cell_type": "markdown",
   "metadata": {},
   "source": [
    "On average each column has approximately 6168 null values, thus this is a very sparse matrix. "
   ]
  },
  {
   "cell_type": "code",
   "execution_count": 189,
   "metadata": {},
   "outputs": [
    {
     "data": {
      "text/plain": [
       "6168.74602659747"
      ]
     },
     "execution_count": 189,
     "metadata": {},
     "output_type": "execute_result"
    }
   ],
   "source": [
    "  np.mean(dense_matrix.isnull().sum(axis = 0))"
   ]
  },
  {
   "cell_type": "code",
   "execution_count": 190,
   "metadata": {},
   "outputs": [
    {
     "name": "stdout",
     "output_type": "stream",
     "text": [
      "Number of Cells Not Populated: 38036488\n"
     ]
    }
   ],
   "source": [
    "print('Number of Cells Not Populated: '+str(sum(len(dense_matrix)-dense_matrix.count())))"
   ]
  },
  {
   "cell_type": "code",
   "execution_count": 191,
   "metadata": {},
   "outputs": [
    {
     "name": "stdout",
     "output_type": "stream",
     "text": [
      "Percent of Cells Not Populated: 99.802%\n"
     ]
    }
   ],
   "source": [
    "print('Percent of Cells Not Populated: ' +str(round(sum(len(dense_matrix) - dense_matrix.count())/(6181*6166)*100,3))+'%')"
   ]
  },
  {
   "cell_type": "code",
   "execution_count": 192,
   "metadata": {},
   "outputs": [],
   "source": [
    "dense_matrix = dense_matrix.fillna(0)"
   ]
  },
  {
   "cell_type": "code",
   "execution_count": 193,
   "metadata": {},
   "outputs": [
    {
     "name": "stdout",
     "output_type": "stream",
     "text": [
      "Number of Cells Not Populated: 0\n"
     ]
    }
   ],
   "source": [
    "print('Number of Cells Not Populated: '+str(sum(len(dense_matrix)-dense_matrix.count())))"
   ]
  },
  {
   "cell_type": "markdown",
   "metadata": {},
   "source": [
    "## Q3. Please write code to print the top 5 similar users to userID 2 based on Euclidean distance. "
   ]
  },
  {
   "cell_type": "code",
   "execution_count": 194,
   "metadata": {},
   "outputs": [],
   "source": [
    "# define a functions, which takes the given item number (integer) as the input and returns the top K similar items (in a data frame)\n",
    "def top_k_items(item_number, k):\n",
    "    # copy the dense matrix and transpose it so each row represents an item\n",
    "    df_sim = dense_matrix.transpose()\n",
    "    # remove the active item \n",
    "    df_sim = df_sim.loc[df_sim.index != item_number]\n",
    "    # calculate the distance between the given item for each row (apply the function to each row if axis = 1)\n",
    "    df_sim[\"distance\"] = df_sim.apply(lambda x: euclidean(dense_matrix[item_number], x), axis=1)\n",
    "    # return the top k from the sorted distances\n",
    "    return df_sim.sort_values(by=\"distance\").head(k)[\"distance\"]   "
   ]
  },
  {
   "cell_type": "code",
   "execution_count": 195,
   "metadata": {},
   "outputs": [
    {
     "data": {
      "text/plain": [
       "itemID\n",
       "2       12.727922\n",
       "1813    19.798990\n",
       "6447    19.798990\n",
       "7312    19.824228\n",
       "6576    19.824228\n",
       "Name: distance, dtype: float64"
      ]
     },
     "execution_count": 195,
     "metadata": {},
     "output_type": "execute_result"
    }
   ],
   "source": [
    "# retrieve top five similar items to Item 1\n",
    "top_k_items(1, 5)"
   ]
  },
  {
   "cell_type": "markdown",
   "metadata": {},
   "source": [
    "## Q4. Please write code to print the Euclidean distance between itemID 18 and itemID 1. Please write code to print the Enclidean distance between itemID36 and itemID 1. Write a print statement that tells me between itemID36 and itemID18, which is more similar to itemID 1 and why. For example, you can write a print statement like print(“itemID36 is more similar to itemID 1 because some reason…” )."
   ]
  },
  {
   "cell_type": "code",
   "execution_count": 196,
   "metadata": {},
   "outputs": [
    {
     "data": {
      "text/plain": [
       "29.189039038652847"
      ]
     },
     "execution_count": 196,
     "metadata": {},
     "output_type": "execute_result"
    }
   ],
   "source": [
    "euclidean(dense_matrix[18], dense_matrix[1])"
   ]
  },
  {
   "cell_type": "code",
   "execution_count": 197,
   "metadata": {},
   "outputs": [
    {
     "data": {
      "text/plain": [
       "40.124805295477756"
      ]
     },
     "execution_count": 197,
     "metadata": {},
     "output_type": "execute_result"
    }
   ],
   "source": [
    "euclidean(dense_matrix[36], dense_matrix[1])"
   ]
  },
  {
   "cell_type": "code",
   "execution_count": 198,
   "metadata": {},
   "outputs": [
    {
     "data": {
      "text/plain": [
       "0.05063905516906649"
      ]
     },
     "execution_count": 198,
     "metadata": {},
     "output_type": "execute_result"
    }
   ],
   "source": [
    "np.mean(dense_matrix[36])"
   ]
  },
  {
   "cell_type": "code",
   "execution_count": 199,
   "metadata": {},
   "outputs": [
    {
     "data": {
      "text/plain": [
       "0.014722536806342015"
      ]
     },
     "execution_count": 199,
     "metadata": {},
     "output_type": "execute_result"
    }
   ],
   "source": [
    "np.mean(dense_matrix[1])"
   ]
  },
  {
   "cell_type": "code",
   "execution_count": 200,
   "metadata": {},
   "outputs": [
    {
     "data": {
      "text/plain": [
       "0.024753276168904707"
      ]
     },
     "execution_count": 200,
     "metadata": {},
     "output_type": "execute_result"
    }
   ],
   "source": [
    "np.mean(dense_matrix[18])"
   ]
  },
  {
   "cell_type": "code",
   "execution_count": 201,
   "metadata": {},
   "outputs": [
    {
     "data": {
      "text/plain": [
       "39"
      ]
     },
     "execution_count": 201,
     "metadata": {},
     "output_type": "execute_result"
    }
   ],
   "source": [
    "np.count_nonzero(dense_matrix[18])"
   ]
  },
  {
   "cell_type": "code",
   "execution_count": 202,
   "metadata": {},
   "outputs": [
    {
     "data": {
      "text/plain": [
       "86"
      ]
     },
     "execution_count": 202,
     "metadata": {},
     "output_type": "execute_result"
    }
   ],
   "source": [
    "np.count_nonzero(dense_matrix[36])"
   ]
  },
  {
   "cell_type": "code",
   "execution_count": 203,
   "metadata": {},
   "outputs": [
    {
     "data": {
      "text/plain": [
       "21"
      ]
     },
     "execution_count": 203,
     "metadata": {},
     "output_type": "execute_result"
    }
   ],
   "source": [
    "np.count_nonzero(dense_matrix[1])"
   ]
  },
  {
   "cell_type": "code",
   "execution_count": 204,
   "metadata": {},
   "outputs": [
    {
     "name": "stdout",
     "output_type": "stream",
     "text": [
      "Item 18 is more similar to item 1 because the vector contains ratings that have a lower overall rating than item 36. Furthermore item 36 is less sparse than item 1 or 2 as there are 86 non-zero values compared to 21 and 39.\n"
     ]
    }
   ],
   "source": [
    "print(\"Item 18 is more similar to item 1 because the vector contains ratings that have a lower overall rating than item 36. Furthermore item 36 is less sparse than item 1 or 2 as there are 86 non-zero values compared to 21 and 39.\")"
   ]
  },
  {
   "cell_type": "markdown",
   "metadata": {},
   "source": [
    "## Q5. Please write code to print the top 5 similar items to itemID 8010."
   ]
  },
  {
   "cell_type": "code",
   "execution_count": 205,
   "metadata": {},
   "outputs": [
    {
     "data": {
      "text/plain": [
       "itemID\n",
       "3711    127.921851\n",
       "4559    127.964839\n",
       "330     129.715072\n",
       "1311    129.722781\n",
       "7328    129.761319\n",
       "Name: distance, dtype: float64"
      ]
     },
     "execution_count": 205,
     "metadata": {},
     "output_type": "execute_result"
    }
   ],
   "source": [
    "top_k_items(8010, 5)"
   ]
  },
  {
   "cell_type": "markdown",
   "metadata": {},
   "source": [
    "## Q6. Write code to remove books and users with less than 20 rating scores from the utility matrix by copying and maybe modifying the following codes. Print the shape of the dataset."
   ]
  },
  {
   "cell_type": "code",
   "execution_count": 206,
   "metadata": {},
   "outputs": [
    {
     "data": {
      "text/plain": [
       "(766, 776)"
      ]
     },
     "execution_count": 206,
     "metadata": {},
     "output_type": "execute_result"
    }
   ],
   "source": [
    "df_item_freq = Df.groupby(\"itemID\").count()\n",
    "df_user_freq = Df.groupby(\"userID\").count()\n",
    "selected_items = df_item_freq[df_item_freq[\"userID\"]>20].index\n",
    "dense_matrix = dense_matrix[selected_items]\n",
    "selected_users = df_user_freq[df_user_freq[\"itemID\"]>20].index\n",
    "dense_matrix = dense_matrix.loc[selected_users]\n",
    "dense_matrix.shape"
   ]
  },
  {
   "cell_type": "markdown",
   "metadata": {},
   "source": [
    "## Q7. Please use the dataset you obtained from Q6 and write code to remove users that haven’t rated itemID8010, and then please write code to print the counts of the different rating scores of this item (hint: use the function value_counts()). Print the shape of the dataset."
   ]
  },
  {
   "cell_type": "code",
   "execution_count": 207,
   "metadata": {},
   "outputs": [],
   "source": [
    "dense_matrix = dense_matrix.iloc[np.nonzero(dense_matrix[8010])]"
   ]
  },
  {
   "cell_type": "code",
   "execution_count": 208,
   "metadata": {},
   "outputs": [
    {
     "name": "stdout",
     "output_type": "stream",
     "text": [
      "Value Counts for Each Rating of Item 8010:\n",
      "4.0    68\n",
      "5.0    58\n",
      "3.0    27\n",
      "2.0    13\n",
      "1.0     8\n",
      "Name: 8010, dtype: int64\n"
     ]
    }
   ],
   "source": [
    "print(\"Value Counts for Each Rating of Item 8010:\\n\" + str(dense_matrix[8010].value_counts()))"
   ]
  },
  {
   "cell_type": "markdown",
   "metadata": {},
   "source": [
    "## Q8. Write code to partition the data set you obtained from Q7 for validating the performance on predicting rating on itemID 8010. Randomly select 25% of the users as the testing set and the others as the training set. Please print the dimensions of the training set and the testing set. Please write code to print the mean rating of itemID 8010 in the training set and its mean rating in the testing set. (Hint: use dense_matrix[8010].mean() method to calculate the means)"
   ]
  },
  {
   "cell_type": "code",
   "execution_count": 209,
   "metadata": {},
   "outputs": [
    {
     "name": "stdout",
     "output_type": "stream",
     "text": [
      "(174, 775)\n",
      "(174, 1)\n"
     ]
    }
   ],
   "source": [
    "from sklearn.model_selection import train_test_split\n",
    "\n",
    "# create a data frame for the predictors\n",
    "df_x = dense_matrix[[col for col in dense_matrix.columns if col != 8010]]\n",
    "print(df_x.shape)\n",
    "\n",
    "# create a series for the outcome\n",
    "df_y = dense_matrix[[8010]]\n",
    "print(df_y.shape)\n",
    "\n",
    "train_x, test_x, train_y, test_y = train_test_split(df_x, df_y, test_size=0.25, random_state=0)\n",
    "df_train_x = pd.DataFrame(train_x, columns=df_x.columns)\n",
    "df_test_x = pd.DataFrame(test_x, columns=df_x.columns)\n",
    "df_train_y = pd.DataFrame(train_y, columns=[8010])\n",
    "df_test_y = pd.DataFrame(test_y, columns=[8010])"
   ]
  },
  {
   "cell_type": "code",
   "execution_count": 210,
   "metadata": {},
   "outputs": [
    {
     "name": "stdout",
     "output_type": "stream",
     "text": [
      "(130, 775)\n",
      "(130, 1)\n"
     ]
    }
   ],
   "source": [
    "#dimensions of the training set\n",
    "print(df_train_x.shape)\n",
    "print(df_train_y.shape)"
   ]
  },
  {
   "cell_type": "code",
   "execution_count": 211,
   "metadata": {},
   "outputs": [
    {
     "name": "stdout",
     "output_type": "stream",
     "text": [
      "(44, 775)\n",
      "(44, 1)\n"
     ]
    }
   ],
   "source": [
    "#dimensions of the test set\n",
    "print(df_test_x.shape)\n",
    "print(df_test_y.shape)"
   ]
  },
  {
   "cell_type": "code",
   "execution_count": 212,
   "metadata": {},
   "outputs": [
    {
     "name": "stdout",
     "output_type": "stream",
     "text": [
      "Mean of Test Set: 8010    3.818182\n",
      "dtype: float64\n",
      "Mean of Train Set: 8010    3.915385\n",
      "dtype: float64\n"
     ]
    }
   ],
   "source": [
    "print('Mean of Test Set: ' + str(np.mean(df_test_y)))\n",
    "print('Mean of Train Set: ' + str(np.mean(df_train_y)))"
   ]
  },
  {
   "cell_type": "markdown",
   "metadata": {},
   "source": [
    "## Q9. Use the training and test dataset obtained in Q8 and write code to 1) print the userID of the 5th user  (the user in the 5th row) in the test dataset, and 2) predict this user’s rating of itemID 8010 based on the top 8 similar users in the training dataset, and print the user’s predicted rating and the actual rating of the book. "
   ]
  },
  {
   "cell_type": "code",
   "execution_count": 213,
   "metadata": {},
   "outputs": [
    {
     "name": "stdout",
     "output_type": "stream",
     "text": [
      "userID of 5th Row in test set: 5614\n"
     ]
    }
   ],
   "source": [
    "print('userID of 5th Row in test set: '+str(df_test_x.index.values[4]))"
   ]
  },
  {
   "cell_type": "code",
   "execution_count": 214,
   "metadata": {},
   "outputs": [],
   "source": [
    "# specify the number of similar users to retrieve\n",
    "k = 8\n",
    "\n",
    "def user_based_predict(user_number):\n",
    "    # retrieve the top k similar users\n",
    "    # copy from all the training predictors\n",
    "    df_sim = df_train_x.copy()\n",
    "    # for each user, calculate the distance between this user and the active user\n",
    "    df_sim[\"distance\"] = df_sim.apply(lambda x: euclidean(df_test_x.loc[user_number], x), axis=1)\n",
    "    # create a new data frame to store the top k similar users\n",
    "    df_sim_users = df_sim.loc[df_sim.sort_values(by=\"distance\").head(k).index]\n",
    "    # calculate these similar users' rating on 8010, weighted by distance\n",
    "    df_sim_users[\"weighed_d\"] = list(map(lambda x: df_sim_users.loc[x][\"distance\"]*df_train_y.loc[x][8010], df_sim_users.index))\n",
    "    predicted = df_sim_users[\"weighed_d\"].sum()/df_sim_users[\"distance\"].sum()\n",
    "    return predicted"
   ]
  },
  {
   "cell_type": "code",
   "execution_count": 217,
   "metadata": {},
   "outputs": [
    {
     "name": "stdout",
     "output_type": "stream",
     "text": [
      "Predicted rating on Item 8010: 3.879581174636168\n",
      "True rating on Item 8010:      4.0\n"
     ]
    }
   ],
   "source": [
    "print(\"Predicted rating on Item 8010:\", user_based_predict(5614))\n",
    "print(\"True rating on Item 8010:     \", df_test_y.loc[5614][8010])"
   ]
  },
  {
   "cell_type": "markdown",
   "metadata": {},
   "source": [
    "# Q10. Create text boxes to write down the answers to the following questions. \n",
    "1)\tUse your own language (<= 6 sentences) to briefly describe model-based collaborative filtering. \n",
    "2)\tSummarize the differences between content-based filtering and model-based collaborative filtering? (at least two differences). How are they similar? \n",
    "\n"
   ]
  },
  {
   "cell_type": "markdown",
   "metadata": {},
   "source": [
    "1. Model-based collaborative filtering is a simplistic method that assums that people like things similar to highly rated things they have reviewed in the past or that someone with similar interests may have liked. This approach starts with a sparse utility matrix of users, and a category of items that multiple users have rated. Model based collaborative filtering is named as such becuase it uses an algorithm to compute user preferences. There are different types of algorithms that can be uses such as K-Nearest Neighbors, matrix factorization, neural networks, or singular value decomposition. "
   ]
  },
  {
   "cell_type": "markdown",
   "metadata": {},
   "source": [
    "2. Content based filtering focuses on the properties between items whereas model based filtering focuses on the relationships between items and users. Content based collaborative filtering predicts a single user's taste and suffers from the cold start problem, meaning if a user does not have data, it cannot make predictions for that user. Model based collaborative filtering can overcome the cold start problem because it can use other's user's preferences to predict the new user. While I mentioned a user based approach for content based collaborative filtering, the method can also be item based. Content based filtering will typically over specialize per user thus that user will not be reccomended anything outside of that specialization. Model based collaborative filtering relies on correlated ratings between users thus can make bad predictions. Both methods are similar in that they can share some of the same underlying algorithms, KNN can use euclidean distance for model based filterint, and content based filtering can use euclidean distance to predict user preference. "
   ]
  },
  {
   "cell_type": "code",
   "execution_count": null,
   "metadata": {},
   "outputs": [],
   "source": []
  }
 ],
 "metadata": {
  "kernelspec": {
   "display_name": "Python 3",
   "language": "python",
   "name": "python3"
  },
  "language_info": {
   "codemirror_mode": {
    "name": "ipython",
    "version": 3
   },
   "file_extension": ".py",
   "mimetype": "text/x-python",
   "name": "python",
   "nbconvert_exporter": "python",
   "pygments_lexer": "ipython3",
   "version": "3.6.7"
  }
 },
 "nbformat": 4,
 "nbformat_minor": 2
}
