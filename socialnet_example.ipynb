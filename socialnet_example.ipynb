{
 "cells": [
  {
   "cell_type": "code",
   "execution_count": 33,
   "metadata": {},
   "outputs": [],
   "source": [
    "import networkx as nx\n",
    "import pandas as pd\n",
    "%matplotlib inline"
   ]
  },
  {
   "cell_type": "code",
   "execution_count": 34,
   "metadata": {},
   "outputs": [
    {
     "data": {
      "image/png": "[encoded data removed]",
      "text/plain": [
       "<Figure size 432x288 with 1 Axes>"
      ]
     },
     "metadata": {},
     "output_type": "display_data"
    }
   ],
   "source": [
    "# create a graph object\n",
    "g = nx.Graph()\n",
    "\n",
    "# add an edge\n",
    "g.add_edge(\"a\", \"b\")\n",
    "g.add_edge(\"b\", \"c\")\n",
    "g.add_edge(\"c\", \"a\")\n",
    "g.add_edge(\"e\", \"a\")\n",
    "g.add_edge(\"f\", \"a\")\n",
    "g.add_edge(\"c\", \"g\")\n",
    "g.add_edge(\"c\", \"h\")\n",
    "g.add_edge(\"c\", \"i\")\n",
    "g.add_edge(\"e\", \"j\")\n",
    "g.add_edge(\"e\", \"k\")\n",
    "g.add_edge(\"g\", \"i\")\n",
    "g.add_edge(\"h\", \"i\")\n",
    "g.add_edge(\"k\", \"j\")\n",
    "g.add_edge(\"k\", \"f\")\n",
    "g.add_edge(\"e\", \"f\")\n",
    "g.add_edge(\"j\", \"f\")\n",
    "\n",
    "# draw the graph using circular layout and display node labels\n",
    "nx.draw_spring(g, with_labels=True)"
   ]
  },
  {
   "cell_type": "code",
   "execution_count": 35,
   "metadata": {},
   "outputs": [
    {
     "name": "stdout",
     "output_type": "stream",
     "text": [
      "0.35555555555555557\n"
     ]
    }
   ],
   "source": [
    "print(nx.density(g))"
   ]
  },
  {
   "cell_type": "code",
   "execution_count": 36,
   "metadata": {
    "scrolled": true
   },
   "outputs": [
    {
     "name": "stdout",
     "output_type": "stream",
     "text": [
      "[('a', 4), ('b', 2), ('c', 5), ('e', 4), ('f', 4), ('g', 2), ('h', 2), ('i', 3), ('j', 3), ('k', 3)]\n",
      "  node  degree\n",
      "2    c       5\n",
      "0    a       4\n",
      "3    e       4\n",
      "4    f       4\n",
      "7    i       3\n",
      "8    j       3\n",
      "9    k       3\n",
      "1    b       2\n",
      "5    g       2\n",
      "6    h       2\n"
     ]
    }
   ],
   "source": [
    "# compute node degrees of a graph\n",
    "degree = nx.degree(g)\n",
    "print(degree)\n",
    "# convert it to pandas dataframe\n",
    "df_degree = pd.DataFrame([x for x in degree], columns=[\"node\", \"degree\"])\n",
    "# sort nodes by degree in descending order\n",
    "df_degree = df_degree.sort_values(\"degree\", ascending=False)\n",
    "print(df_degree)"
   ]
  },
  {
   "cell_type": "code",
   "execution_count": 37,
   "metadata": {},
   "outputs": [
    {
     "data": {
      "image/png": "[encoded data removed]",
      "text/plain": [
       "<Figure size 432x288 with 1 Axes>"
      ]
     },
     "metadata": {
      "needs_background": "light"
     },
     "output_type": "display_data"
    }
   ],
   "source": [
    "# degree histogram\n",
    "from matplotlib import pyplot as plt\n",
    "plt.hist([y for (x, y) in degree], bins=100);"
   ]
  },
  {
   "cell_type": "code",
   "execution_count": 38,
   "metadata": {},
   "outputs": [
    {
     "name": "stdout",
     "output_type": "stream",
     "text": [
      "  node  betweenness\n",
      "0    a     0.555556\n",
      "2    c     0.513889\n",
      "3    e     0.166667\n",
      "4    f     0.166667\n",
      "7    i     0.013889\n",
      "1    b     0.000000\n",
      "5    g     0.000000\n",
      "6    h     0.000000\n",
      "8    j     0.000000\n",
      "9    k     0.000000\n"
     ]
    }
   ],
   "source": [
    "# compute node betweenness of a graph\n",
    "between = nx.betweenness_centrality(g)\n",
    "# convert it to pandas dataframe\n",
    "df_between = pd.DataFrame(list(between.items()), columns=[\"node\", \"betweenness\"])\n",
    "# sort nodes by betweenness in descending order\n",
    "df_between = df_between.sort_values(\"betweenness\", ascending=False)\n",
    "print(df_between)"
   ]
  },
  {
   "cell_type": "code",
   "execution_count": 39,
   "metadata": {
    "scrolled": true
   },
   "outputs": [
    {
     "name": "stdout",
     "output_type": "stream",
     "text": [
      "  node  closeness\n",
      "0    a   0.642857\n",
      "2    c   0.600000\n",
      "3    e   0.529412\n",
      "4    f   0.529412\n",
      "1    b   0.500000\n",
      "7    i   0.428571\n",
      "5    g   0.409091\n",
      "6    h   0.409091\n",
      "8    j   0.391304\n",
      "9    k   0.391304\n"
     ]
    }
   ],
   "source": [
    "# compute node closeness of a graph\n",
    "closeness = nx.closeness_centrality(g)\n",
    "\n",
    "# convert it to pandas dataframe\n",
    "df_closeness = pd.DataFrame(list(closeness.items()), columns=[\"node\", \"closeness\"])\n",
    "\n",
    "# sort nodes by closeness in descending order\n",
    "df_closeness=df_closeness.sort_values(\"closeness\", ascending=False)\n",
    "print(df_closeness)"
   ]
  },
  {
   "cell_type": "code",
   "execution_count": 40,
   "metadata": {},
   "outputs": [
    {
     "name": "stdout",
     "output_type": "stream",
     "text": [
      "  node  eigenvector centrality\n",
      "3    e                0.449959\n",
      "4    f                0.449959\n",
      "0    a                0.396278\n",
      "8    j                0.361667\n",
      "9    k                0.361667\n",
      "2    c                0.286624\n",
      "1    b                0.195773\n",
      "7    i                0.154712\n",
      "5    g                0.126522\n",
      "6    h                0.126522\n"
     ]
    }
   ],
   "source": [
    "# compute node eigenvector centrality of a graph\n",
    "eigen = nx.eigenvector_centrality(g)\n",
    "\n",
    "# convert it to pandas dataframe\n",
    "df_eigen = pd.DataFrame(list(eigen.items()), columns=[\"node\", \"eigenvector centrality\"])\n",
    "\n",
    "# sort nodes by eivenvector centrality in descending order\n",
    "df_eigen=df_eigen.sort_values(\"eigenvector centrality\", ascending=False)\n",
    "print(df_eigen)"
   ]
  },
  {
   "cell_type": "code",
   "execution_count": 41,
   "metadata": {
    "scrolled": true
   },
   "outputs": [
    {
     "name": "stdout",
     "output_type": "stream",
     "text": [
      "  node  pagerank\n",
      "2    c  0.158182\n",
      "0    a  0.119753\n",
      "3    e  0.115866\n",
      "4    f  0.115866\n",
      "7    i  0.102083\n",
      "8    j  0.089641\n",
      "9    k  0.089641\n",
      "5    g  0.070815\n",
      "6    h  0.070815\n",
      "1    b  0.067338\n"
     ]
    }
   ],
   "source": [
    "# compute node PageRank centrality of a graph\n",
    "pagerank = nx.pagerank_numpy(g)\n",
    "\n",
    "# convert it to pandas dataframe\n",
    "df_pagerank = pd.DataFrame(list(pagerank.items()), columns=[\"node\", \"pagerank\"])\n",
    "\n",
    "# sort nodes by pagerank in descending order\n",
    "df_pagerank=df_pagerank.sort_values(\"pagerank\", ascending=False)\n",
    "print(df_pagerank)"
   ]
  },
  {
   "cell_type": "code",
   "execution_count": 42,
   "metadata": {},
   "outputs": [
    {
     "name": "stdout",
     "output_type": "stream",
     "text": [
      "number of component: 1\n",
      "   n_nodes\n",
      "0       10\n"
     ]
    }
   ],
   "source": [
    "components = list(nx.connected_component_subgraphs(g))\n",
    "print(\"number of component:\", len(components))\n",
    "df_comp = pd.DataFrame()\n",
    "df_comp[\"n_nodes\"] = [c.number_of_nodes() for c in components]\n",
    "print(df_comp.head())"
   ]
  },
  {
   "cell_type": "code",
   "execution_count": 43,
   "metadata": {},
   "outputs": [
    {
     "name": "stdout",
     "output_type": "stream",
     "text": [
      "['k', 'e', 'j', 'f']\n",
      "['c', 'b', 'a']\n",
      "['c', 'i', 'h']\n",
      "['c', 'i', 'g']\n",
      "['e', 'a', 'f']\n"
     ]
    }
   ],
   "source": [
    "# find cliques\n",
    "for cliq in nx.find_cliques(g):\n",
    "    print(cliq)"
   ]
  },
  {
   "cell_type": "code",
   "execution_count": 44,
   "metadata": {},
   "outputs": [
    {
     "data": {
      "image/png": "[encoded data removed]",
      "text/plain": [
       "<Figure size 432x288 with 1 Axes>"
      ]
     },
     "metadata": {
      "needs_background": "light"
     },
     "output_type": "display_data"
    },
    {
     "name": "stdout",
     "output_type": "stream",
     "text": [
      "[('a', 0), ('b', 0), ('c', 1), ('e', 2), ('f', 2), ('g', 1), ('h', 1), ('i', 1), ('j', 2), ('k', 2)]\n"
     ]
    }
   ],
   "source": [
    "# in order to run the louvain community detection algorithm, you need to Anaconda Prompt and type:\n",
    "# pip install --upgrade --force-reinstall python-louvain\n",
    "import community\n",
    "partition = community.best_partition(g)\n",
    "#drawing\n",
    "size = float(len(set(partition.values())))\n",
    "pos = nx.spring_layout(g)\n",
    "count = 0\n",
    "colors = [\"r\", \"b\", \"k\", \"y\"]\n",
    "for com in set(partition.values()) :  \n",
    "    list_nodes = [nodes for nodes in partition.keys()if partition[nodes] == com]\n",
    "    nx.draw_networkx_nodes(g, pos, list_nodes, node_size = 20, node_color = colors[count])\n",
    "    count += 1\n",
    "nx.draw_networkx_edges(g, pos, alpha=0.5)\n",
    "plt.show()\n",
    "values = [(node, partition.get(node)) for node in g.nodes()]\n",
    "print(values)"
   ]
  }
 ],
 "metadata": {
  "kernelspec": {
   "display_name": "Python 3",
   "language": "python",
   "name": "python3"
  },
  "language_info": {
   "codemirror_mode": {
    "name": "ipython",
    "version": 3
   },
   "file_extension": ".py",
   "mimetype": "text/x-python",
   "name": "python",
   "nbconvert_exporter": "python",
   "pygments_lexer": "ipython3",
   "version": "3.6.7"
  }
 },
 "nbformat": 4,
 "nbformat_minor": 1
}
