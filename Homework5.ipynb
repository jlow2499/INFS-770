{
 "cells": [
  {
   "cell_type": "markdown",
   "metadata": {},
   "source": [
    "# Jeremiah Lowhorn\n",
    "## Assignment 5\n",
    "## INFS 770\n",
    "## 4/20/2019"
   ]
  },
  {
   "cell_type": "code",
   "execution_count": 35,
   "metadata": {},
   "outputs": [],
   "source": [
    "import networkx as nx\n",
    "from matplotlib import pyplot as plt\n",
    "import pandas as pd\n",
    "import community"
   ]
  },
  {
   "cell_type": "markdown",
   "metadata": {},
   "source": [
    "In this assignment, you will need to conduct some network analysis on an Enron email data set. The text file “Email-Enron.txt” included in the assignment 4 folder contains the edge list of the communications. The description of the data set can be found at http://snap.stanford.edu/data/email-Enron.html. \n",
    "Please submit your codes and outputs in an iPython notebook.\n"
   ]
  },
  {
   "cell_type": "code",
   "execution_count": 4,
   "metadata": {},
   "outputs": [],
   "source": [
    "# specify the file location\n",
    "file_name = \"Email-Enron.txt\"\n",
    "\n",
    "# read an edge list into a networkx graph\n",
    "g = nx.read_edgelist(file_name, # file location\n",
    "                     comments=\"#\", # the character used to indicate the start of a comment\n",
    "                     delimiter=\"\\t\", # the character that separates values in a line\n",
    "                     create_using=nx.Graph() # create as undirected graph\n",
    "                    )\n"
   ]
  },
  {
   "cell_type": "markdown",
   "metadata": {},
   "source": [
    "Q1. Please write code to print the number of nodes and the number of edges in the entire network (use the method print nx.info(g)). Please write code to print the density of the network."
   ]
  },
  {
   "cell_type": "code",
   "execution_count": 5,
   "metadata": {},
   "outputs": [
    {
     "data": {
      "text/plain": [
       "'Name: \\nType: Graph\\nNumber of nodes: 36692\\nNumber of edges: 183831\\nAverage degree:  10.0202'"
      ]
     },
     "execution_count": 5,
     "metadata": {},
     "output_type": "execute_result"
    }
   ],
   "source": [
    "nx.info(g)"
   ]
  },
  {
   "cell_type": "code",
   "execution_count": 6,
   "metadata": {},
   "outputs": [
    {
     "name": "stdout",
     "output_type": "stream",
     "text": [
      "0.00027309755503535\n"
     ]
    }
   ],
   "source": [
    "print(nx.density(g))"
   ]
  },
  {
   "cell_type": "markdown",
   "metadata": {},
   "source": [
    "Q2. Please create a textbox and tell me: 1) What do the nodes and edges mean in this network? 2) Are the edges weighted? If so, what does the weight mean? 3) What does density of network mean? (you don’t need to write code for these questions)"
   ]
  },
  {
   "cell_type": "markdown",
   "metadata": {},
   "source": [
    "1. The nodes are actual email addresses and the edges connect the email address together if at least one email was sent between the two. "
   ]
  },
  {
   "cell_type": "markdown",
   "metadata": {},
   "source": [
    "2. This is an unweighted network because the emails between the email addresses carry the same weight. "
   ]
  },
  {
   "cell_type": "markdown",
   "metadata": {},
   "source": [
    "3. Density is defined by the number of connections an email address has, divided by the number of connections, or emails they could have. In this case the density is very low which means that email addresses only receive emails from certain users."
   ]
  },
  {
   "cell_type": "markdown",
   "metadata": {},
   "source": [
    "Q3. Please write code to plot the degree histogram. Please create a textbox in which you try to interpret the histogram (hint: you must talk about the distribution shown in the histogram)."
   ]
  },
  {
   "cell_type": "code",
   "execution_count": 7,
   "metadata": {},
   "outputs": [
    {
     "data": {
      "text/plain": [
       "(array([3.2365e+04, 1.9470e+03, 7.9300e+02, 4.2200e+02, 2.9000e+02,\n",
       "        1.8100e+02, 1.3000e+02, 1.0000e+02, 7.5000e+01, 5.8000e+01,\n",
       "        4.4000e+01, 3.5000e+01, 3.8000e+01, 1.9000e+01, 1.4000e+01,\n",
       "        2.2000e+01, 2.2000e+01, 1.1000e+01, 1.1000e+01, 7.0000e+00,\n",
       "        1.0000e+01, 1.2000e+01, 1.0000e+01, 4.0000e+00, 7.0000e+00,\n",
       "        0.0000e+00, 6.0000e+00, 5.0000e+00, 4.0000e+00, 2.0000e+00,\n",
       "        5.0000e+00, 0.0000e+00, 3.0000e+00, 3.0000e+00, 2.0000e+00,\n",
       "        3.0000e+00, 1.0000e+00, 2.0000e+00, 3.0000e+00, 3.0000e+00,\n",
       "        0.0000e+00, 0.0000e+00, 1.0000e+00, 3.0000e+00, 0.0000e+00,\n",
       "        0.0000e+00, 0.0000e+00, 0.0000e+00, 1.0000e+00, 1.0000e+00,\n",
       "        1.0000e+00, 1.0000e+00, 0.0000e+00, 0.0000e+00, 0.0000e+00,\n",
       "        0.0000e+00, 0.0000e+00, 1.0000e+00, 1.0000e+00, 1.0000e+00,\n",
       "        1.0000e+00, 0.0000e+00, 0.0000e+00, 0.0000e+00, 0.0000e+00,\n",
       "        1.0000e+00, 1.0000e+00, 0.0000e+00, 0.0000e+00, 0.0000e+00,\n",
       "        0.0000e+00, 0.0000e+00, 0.0000e+00, 0.0000e+00, 1.0000e+00,\n",
       "        0.0000e+00, 0.0000e+00, 1.0000e+00, 0.0000e+00, 1.0000e+00,\n",
       "        0.0000e+00, 0.0000e+00, 1.0000e+00, 0.0000e+00, 0.0000e+00,\n",
       "        0.0000e+00, 0.0000e+00, 0.0000e+00, 0.0000e+00, 1.0000e+00,\n",
       "        1.0000e+00, 1.0000e+00, 0.0000e+00, 0.0000e+00, 0.0000e+00,\n",
       "        0.0000e+00, 0.0000e+00, 0.0000e+00, 1.0000e+00, 1.0000e+00]),\n",
       " array([1.00000e+00, 1.48200e+01, 2.86400e+01, 4.24600e+01, 5.62800e+01,\n",
       "        7.01000e+01, 8.39200e+01, 9.77400e+01, 1.11560e+02, 1.25380e+02,\n",
       "        1.39200e+02, 1.53020e+02, 1.66840e+02, 1.80660e+02, 1.94480e+02,\n",
       "        2.08300e+02, 2.22120e+02, 2.35940e+02, 2.49760e+02, 2.63580e+02,\n",
       "        2.77400e+02, 2.91220e+02, 3.05040e+02, 3.18860e+02, 3.32680e+02,\n",
       "        3.46500e+02, 3.60320e+02, 3.74140e+02, 3.87960e+02, 4.01780e+02,\n",
       "        4.15600e+02, 4.29420e+02, 4.43240e+02, 4.57060e+02, 4.70880e+02,\n",
       "        4.84700e+02, 4.98520e+02, 5.12340e+02, 5.26160e+02, 5.39980e+02,\n",
       "        5.53800e+02, 5.67620e+02, 5.81440e+02, 5.95260e+02, 6.09080e+02,\n",
       "        6.22900e+02, 6.36720e+02, 6.50540e+02, 6.64360e+02, 6.78180e+02,\n",
       "        6.92000e+02, 7.05820e+02, 7.19640e+02, 7.33460e+02, 7.47280e+02,\n",
       "        7.61100e+02, 7.74920e+02, 7.88740e+02, 8.02560e+02, 8.16380e+02,\n",
       "        8.30200e+02, 8.44020e+02, 8.57840e+02, 8.71660e+02, 8.85480e+02,\n",
       "        8.99300e+02, 9.13120e+02, 9.26940e+02, 9.40760e+02, 9.54580e+02,\n",
       "        9.68400e+02, 9.82220e+02, 9.96040e+02, 1.00986e+03, 1.02368e+03,\n",
       "        1.03750e+03, 1.05132e+03, 1.06514e+03, 1.07896e+03, 1.09278e+03,\n",
       "        1.10660e+03, 1.12042e+03, 1.13424e+03, 1.14806e+03, 1.16188e+03,\n",
       "        1.17570e+03, 1.18952e+03, 1.20334e+03, 1.21716e+03, 1.23098e+03,\n",
       "        1.24480e+03, 1.25862e+03, 1.27244e+03, 1.28626e+03, 1.30008e+03,\n",
       "        1.31390e+03, 1.32772e+03, 1.34154e+03, 1.35536e+03, 1.36918e+03,\n",
       "        1.38300e+03]),\n",
       " <a list of 100 Patch objects>)"
      ]
     },
     "execution_count": 7,
     "metadata": {},
     "output_type": "execute_result"
    },
    {
     "data": {
      "image/png": "[encoded data removed]",
      "text/plain": [
       "<Figure size 432x288 with 1 Axes>"
      ]
     },
     "metadata": {
      "needs_background": "light"
     },
     "output_type": "display_data"
    }
   ],
   "source": [
    "# degree histogram\n",
    "# compute node degrees of a graph\n",
    "degree = nx.degree(g)\n",
    "plt.hist([y for (x, y) in degree], bins=100)"
   ]
  },
  {
   "cell_type": "markdown",
   "metadata": {},
   "source": [
    "This histogram is clearly zero inflated and tailed to the right indicating that most of the email addresses received zero emails while some received many more. "
   ]
  },
  {
   "cell_type": "markdown",
   "metadata": {},
   "source": [
    "Q4. How many connected components are there in the network? How many nodes and edge are there in the largest component? "
   ]
  },
  {
   "cell_type": "code",
   "execution_count": 8,
   "metadata": {},
   "outputs": [
    {
     "data": {
      "text/plain": [
       "1065"
      ]
     },
     "execution_count": 8,
     "metadata": {},
     "output_type": "execute_result"
    }
   ],
   "source": [
    "#number of connected components\n",
    "len([len(c) for c in sorted(nx.connected_components(g), key=len, reverse=True)])"
   ]
  },
  {
   "cell_type": "code",
   "execution_count": 9,
   "metadata": {},
   "outputs": [],
   "source": [
    "largest_cc = max(nx.connected_components(g), key=len)"
   ]
  },
  {
   "cell_type": "code",
   "execution_count": 10,
   "metadata": {},
   "outputs": [
    {
     "data": {
      "text/plain": [
       "33696"
      ]
     },
     "execution_count": 10,
     "metadata": {},
     "output_type": "execute_result"
    }
   ],
   "source": [
    "#number of nodes in largest component\n",
    "len(largest_cc)"
   ]
  },
  {
   "cell_type": "code",
   "execution_count": 11,
   "metadata": {},
   "outputs": [
    {
     "data": {
      "text/plain": [
       "180811"
      ]
     },
     "execution_count": 11,
     "metadata": {},
     "output_type": "execute_result"
    }
   ],
   "source": [
    "#number of edges in the largest component\n",
    "max(nx.connected_component_subgraphs(g), key=len).number_of_edges()"
   ]
  },
  {
   "cell_type": "markdown",
   "metadata": {},
   "source": [
    "Q5. Write code to name the component having 16 nodes as comp_A (here you need to write a for loop to traverse the list of component and set comp_A to be the component with number_of_nodes()==16 ) and the component having 14 nodes as comp_B. Please write code to visualize comp_A and write code to visualize comp_B. "
   ]
  },
  {
   "cell_type": "code",
   "execution_count": 12,
   "metadata": {},
   "outputs": [
    {
     "data": {
      "text/plain": [
       "[<networkx.classes.graph.Graph at 0x2a022195cf8>,\n",
       " <networkx.classes.graph.Graph at 0x2a022195f60>,\n",
       " <networkx.classes.graph.Graph at 0x2a022195eb8>,\n",
       " <networkx.classes.graph.Graph at 0x2a022195da0>,\n",
       " <networkx.classes.graph.Graph at 0x2a022195cc0>,\n",
       " <networkx.classes.graph.Graph at 0x2a022195ef0>,\n",
       " <networkx.classes.graph.Graph at 0x2a022195fd0>,\n",
       " <networkx.classes.graph.Graph at 0x2a022195dd8>,\n",
       " <networkx.classes.graph.Graph at 0x2a01880e4a8>,\n",
       " <networkx.classes.graph.Graph at 0x2a022195e48>,\n",
       " <networkx.classes.graph.Graph at 0x2a02258c780>,\n",
       " <networkx.classes.graph.Graph at 0x2a02258c198>,\n",
       " <networkx.classes.graph.Graph at 0x2a02258c7f0>,\n",
       " <networkx.classes.graph.Graph at 0x2a02258c278>,\n",
       " <networkx.classes.graph.Graph at 0x2a0188bb3c8>,\n",
       " <networkx.classes.graph.Graph at 0x2a0188bb400>,\n",
       " <networkx.classes.graph.Graph at 0x2a0188bb390>,\n",
       " <networkx.classes.graph.Graph at 0x2a01bf81550>,\n",
       " <networkx.classes.graph.Graph at 0x2a01bf81668>,\n",
       " <networkx.classes.graph.Graph at 0x2a02258c860>,\n",
       " <networkx.classes.graph.Graph at 0x2a02258c940>,\n",
       " <networkx.classes.graph.Graph at 0x2a02256a630>,\n",
       " <networkx.classes.graph.Graph at 0x2a02256ac18>,\n",
       " <networkx.classes.graph.Graph at 0x2a02256aa20>,\n",
       " <networkx.classes.graph.Graph at 0x2a02251eac8>,\n",
       " <networkx.classes.graph.Graph at 0x2a02251e4e0>,\n",
       " <networkx.classes.graph.Graph at 0x2a02251e1d0>,\n",
       " <networkx.classes.graph.Graph at 0x2a02251e438>,\n",
       " <networkx.classes.graph.Graph at 0x2a02251e0f0>,\n",
       " <networkx.classes.graph.Graph at 0x2a02251e828>,\n",
       " <networkx.classes.graph.Graph at 0x2a02251e550>,\n",
       " <networkx.classes.graph.Graph at 0x2a02251e780>,\n",
       " <networkx.classes.graph.Graph at 0x2a02251e518>,\n",
       " <networkx.classes.graph.Graph at 0x2a02251e898>,\n",
       " <networkx.classes.graph.Graph at 0x2a02251eeb8>,\n",
       " <networkx.classes.graph.Graph at 0x2a02251eba8>,\n",
       " <networkx.classes.graph.Graph at 0x2a02251ebe0>,\n",
       " <networkx.classes.graph.Graph at 0x2a02251e860>,\n",
       " <networkx.classes.graph.Graph at 0x2a02251ef28>,\n",
       " <networkx.classes.graph.Graph at 0x2a02257eac8>,\n",
       " <networkx.classes.graph.Graph at 0x2a02257e208>,\n",
       " <networkx.classes.graph.Graph at 0x2a02257e860>,\n",
       " <networkx.classes.graph.Graph at 0x2a02257e320>,\n",
       " <networkx.classes.graph.Graph at 0x2a02257ef60>,\n",
       " <networkx.classes.graph.Graph at 0x2a02257e4a8>,\n",
       " <networkx.classes.graph.Graph at 0x2a02257e2e8>,\n",
       " <networkx.classes.graph.Graph at 0x2a02257e908>,\n",
       " <networkx.classes.graph.Graph at 0x2a02257e400>,\n",
       " <networkx.classes.graph.Graph at 0x2a02257ec18>,\n",
       " <networkx.classes.graph.Graph at 0x2a02257ebe0>,\n",
       " <networkx.classes.graph.Graph at 0x2a02257ed68>,\n",
       " <networkx.classes.graph.Graph at 0x2a02257ec88>,\n",
       " <networkx.classes.graph.Graph at 0x2a02257e780>,\n",
       " <networkx.classes.graph.Graph at 0x2a02257eba8>,\n",
       " <networkx.classes.graph.Graph at 0x2a02257e198>,\n",
       " <networkx.classes.graph.Graph at 0x2a02257ef98>,\n",
       " <networkx.classes.graph.Graph at 0x2a02257e6d8>,\n",
       " <networkx.classes.graph.Graph at 0x2a02257e240>,\n",
       " <networkx.classes.graph.Graph at 0x2a02257e1d0>,\n",
       " <networkx.classes.graph.Graph at 0x2a02257e390>,\n",
       " <networkx.classes.graph.Graph at 0x2a02257e2b0>,\n",
       " <networkx.classes.graph.Graph at 0x2a02257e3c8>,\n",
       " <networkx.classes.graph.Graph at 0x2a02257e278>,\n",
       " <networkx.classes.graph.Graph at 0x2a02257e588>,\n",
       " <networkx.classes.graph.Graph at 0x2a02257e358>,\n",
       " <networkx.classes.graph.Graph at 0x2a02257e4e0>,\n",
       " <networkx.classes.graph.Graph at 0x2a02257e160>,\n",
       " <networkx.classes.graph.Graph at 0x2a02257e438>,\n",
       " <networkx.classes.graph.Graph at 0x2a02257e470>,\n",
       " <networkx.classes.graph.Graph at 0x2a02257ee10>,\n",
       " <networkx.classes.graph.Graph at 0x2a02257e978>,\n",
       " <networkx.classes.graph.Graph at 0x2a02257ef28>,\n",
       " <networkx.classes.graph.Graph at 0x2a02257e080>,\n",
       " <networkx.classes.graph.Graph at 0x2a02257e940>,\n",
       " <networkx.classes.graph.Graph at 0x2a02257ea20>,\n",
       " <networkx.classes.graph.Graph at 0x2a02257e828>,\n",
       " <networkx.classes.graph.Graph at 0x2a02257e710>,\n",
       " <networkx.classes.graph.Graph at 0x2a02257ee48>,\n",
       " <networkx.classes.graph.Graph at 0x2a02257ee80>,\n",
       " <networkx.classes.graph.Graph at 0x2a02257eda0>,\n",
       " <networkx.classes.graph.Graph at 0x2a02257e9b0>,\n",
       " <networkx.classes.graph.Graph at 0x2a02257eeb8>,\n",
       " <networkx.classes.graph.Graph at 0x2a02257eef0>,\n",
       " <networkx.classes.graph.Graph at 0x2a02257e9e8>,\n",
       " <networkx.classes.graph.Graph at 0x2a02257eb38>,\n",
       " <networkx.classes.graph.Graph at 0x2a02257efd0>,\n",
       " <networkx.classes.graph.Graph at 0x2a02257e898>,\n",
       " <networkx.classes.graph.Graph at 0x2a02257e7f0>,\n",
       " <networkx.classes.graph.Graph at 0x2a02257ea58>,\n",
       " <networkx.classes.graph.Graph at 0x2a02257ecf8>,\n",
       " <networkx.classes.graph.Graph at 0x2a02257eb70>,\n",
       " <networkx.classes.graph.Graph at 0x2a02257ea90>,\n",
       " <networkx.classes.graph.Graph at 0x2a02257eb00>,\n",
       " <networkx.classes.graph.Graph at 0x2a02257e8d0>,\n",
       " <networkx.classes.graph.Graph at 0x2a02257ecc0>,\n",
       " <networkx.classes.graph.Graph at 0x2a02257ed30>,\n",
       " <networkx.classes.graph.Graph at 0x2a02257e0f0>,\n",
       " <networkx.classes.graph.Graph at 0x2a022c5b080>,\n",
       " <networkx.classes.graph.Graph at 0x2a022c5b0b8>,\n",
       " <networkx.classes.graph.Graph at 0x2a022c5b0f0>,\n",
       " <networkx.classes.graph.Graph at 0x2a022c5b128>,\n",
       " <networkx.classes.graph.Graph at 0x2a022c5b160>,\n",
       " <networkx.classes.graph.Graph at 0x2a022c5b198>,\n",
       " <networkx.classes.graph.Graph at 0x2a022c5b1d0>,\n",
       " <networkx.classes.graph.Graph at 0x2a022c5b208>,\n",
       " <networkx.classes.graph.Graph at 0x2a022c5b240>,\n",
       " <networkx.classes.graph.Graph at 0x2a022c5b278>,\n",
       " <networkx.classes.graph.Graph at 0x2a022c5b2b0>,\n",
       " <networkx.classes.graph.Graph at 0x2a022c5b048>,\n",
       " <networkx.classes.graph.Graph at 0x2a022c5b2e8>,\n",
       " <networkx.classes.graph.Graph at 0x2a022c5b358>,\n",
       " <networkx.classes.graph.Graph at 0x2a022c5b390>,\n",
       " <networkx.classes.graph.Graph at 0x2a022c5b3c8>,\n",
       " <networkx.classes.graph.Graph at 0x2a022c5b400>,\n",
       " <networkx.classes.graph.Graph at 0x2a022c5b438>,\n",
       " <networkx.classes.graph.Graph at 0x2a022c5b470>,\n",
       " <networkx.classes.graph.Graph at 0x2a022c5b4a8>,\n",
       " <networkx.classes.graph.Graph at 0x2a022c5b4e0>,\n",
       " <networkx.classes.graph.Graph at 0x2a022c5b518>,\n",
       " <networkx.classes.graph.Graph at 0x2a022c5b550>,\n",
       " <networkx.classes.graph.Graph at 0x2a022c5b320>,\n",
       " <networkx.classes.graph.Graph at 0x2a022c5b5c0>,\n",
       " <networkx.classes.graph.Graph at 0x2a022c5b588>,\n",
       " <networkx.classes.graph.Graph at 0x2a022c5b630>,\n",
       " <networkx.classes.graph.Graph at 0x2a022c5b668>,\n",
       " <networkx.classes.graph.Graph at 0x2a022c5b6a0>,\n",
       " <networkx.classes.graph.Graph at 0x2a022c5b5f8>,\n",
       " <networkx.classes.graph.Graph at 0x2a022c5b710>,\n",
       " <networkx.classes.graph.Graph at 0x2a022c5b748>,\n",
       " <networkx.classes.graph.Graph at 0x2a022c5b780>,\n",
       " <networkx.classes.graph.Graph at 0x2a022c5b6d8>,\n",
       " <networkx.classes.graph.Graph at 0x2a022c5b7f0>,\n",
       " <networkx.classes.graph.Graph at 0x2a022c5b828>,\n",
       " <networkx.classes.graph.Graph at 0x2a022c5b860>,\n",
       " <networkx.classes.graph.Graph at 0x2a022c5b898>,\n",
       " <networkx.classes.graph.Graph at 0x2a022c5b8d0>,\n",
       " <networkx.classes.graph.Graph at 0x2a022c5b908>,\n",
       " <networkx.classes.graph.Graph at 0x2a022c5b940>,\n",
       " <networkx.classes.graph.Graph at 0x2a022c5b978>,\n",
       " <networkx.classes.graph.Graph at 0x2a022c5b9b0>,\n",
       " <networkx.classes.graph.Graph at 0x2a022c5b9e8>,\n",
       " <networkx.classes.graph.Graph at 0x2a022c5ba20>,\n",
       " <networkx.classes.graph.Graph at 0x2a022c5ba58>,\n",
       " <networkx.classes.graph.Graph at 0x2a022c5ba90>,\n",
       " <networkx.classes.graph.Graph at 0x2a022c5bac8>,\n",
       " <networkx.classes.graph.Graph at 0x2a022c5bb00>,\n",
       " <networkx.classes.graph.Graph at 0x2a022c5bb38>,\n",
       " <networkx.classes.graph.Graph at 0x2a022c5bb70>,\n",
       " <networkx.classes.graph.Graph at 0x2a022c5bba8>,\n",
       " <networkx.classes.graph.Graph at 0x2a022c5bbe0>,\n",
       " <networkx.classes.graph.Graph at 0x2a022c5b7b8>,\n",
       " <networkx.classes.graph.Graph at 0x2a022c5bc18>,\n",
       " <networkx.classes.graph.Graph at 0x2a022c5bc88>,\n",
       " <networkx.classes.graph.Graph at 0x2a022c5bcc0>,\n",
       " <networkx.classes.graph.Graph at 0x2a022c5bc50>,\n",
       " <networkx.classes.graph.Graph at 0x2a022c5bcf8>,\n",
       " <networkx.classes.graph.Graph at 0x2a022c5bd68>,\n",
       " <networkx.classes.graph.Graph at 0x2a022c5bda0>,\n",
       " <networkx.classes.graph.Graph at 0x2a022c5bdd8>,\n",
       " <networkx.classes.graph.Graph at 0x2a022c5be10>,\n",
       " <networkx.classes.graph.Graph at 0x2a022c5bd30>,\n",
       " <networkx.classes.graph.Graph at 0x2a022c5be80>,\n",
       " <networkx.classes.graph.Graph at 0x2a022c5beb8>,\n",
       " <networkx.classes.graph.Graph at 0x2a022c5bef0>,\n",
       " <networkx.classes.graph.Graph at 0x2a022c5bf28>,\n",
       " <networkx.classes.graph.Graph at 0x2a022c5bf60>,\n",
       " <networkx.classes.graph.Graph at 0x2a022c5bf98>,\n",
       " <networkx.classes.graph.Graph at 0x2a022c5bfd0>,\n",
       " <networkx.classes.graph.Graph at 0x2a022c5be48>,\n",
       " <networkx.classes.graph.Graph at 0x2a022c95080>,\n",
       " <networkx.classes.graph.Graph at 0x2a022c950b8>,\n",
       " <networkx.classes.graph.Graph at 0x2a022c950f0>,\n",
       " <networkx.classes.graph.Graph at 0x2a022c95128>,\n",
       " <networkx.classes.graph.Graph at 0x2a022c95160>,\n",
       " <networkx.classes.graph.Graph at 0x2a022c95198>,\n",
       " <networkx.classes.graph.Graph at 0x2a022c951d0>,\n",
       " <networkx.classes.graph.Graph at 0x2a022c95048>,\n",
       " <networkx.classes.graph.Graph at 0x2a022c95208>,\n",
       " <networkx.classes.graph.Graph at 0x2a022c95278>,\n",
       " <networkx.classes.graph.Graph at 0x2a022c952b0>,\n",
       " <networkx.classes.graph.Graph at 0x2a022c952e8>,\n",
       " <networkx.classes.graph.Graph at 0x2a022c95240>,\n",
       " <networkx.classes.graph.Graph at 0x2a022c95358>,\n",
       " <networkx.classes.graph.Graph at 0x2a022c95390>,\n",
       " <networkx.classes.graph.Graph at 0x2a022c953c8>,\n",
       " <networkx.classes.graph.Graph at 0x2a022c95400>,\n",
       " <networkx.classes.graph.Graph at 0x2a022c95320>,\n",
       " <networkx.classes.graph.Graph at 0x2a022c95470>,\n",
       " <networkx.classes.graph.Graph at 0x2a022c954a8>,\n",
       " <networkx.classes.graph.Graph at 0x2a022c954e0>,\n",
       " <networkx.classes.graph.Graph at 0x2a022c95518>,\n",
       " <networkx.classes.graph.Graph at 0x2a022c95550>,\n",
       " <networkx.classes.graph.Graph at 0x2a022c95588>,\n",
       " <networkx.classes.graph.Graph at 0x2a022c955c0>,\n",
       " <networkx.classes.graph.Graph at 0x2a022c955f8>,\n",
       " <networkx.classes.graph.Graph at 0x2a022c95438>,\n",
       " <networkx.classes.graph.Graph at 0x2a022c95668>,\n",
       " <networkx.classes.graph.Graph at 0x2a022c956a0>,\n",
       " <networkx.classes.graph.Graph at 0x2a022c956d8>,\n",
       " <networkx.classes.graph.Graph at 0x2a022c95710>,\n",
       " <networkx.classes.graph.Graph at 0x2a022c95748>,\n",
       " <networkx.classes.graph.Graph at 0x2a022c95780>,\n",
       " <networkx.classes.graph.Graph at 0x2a022c957b8>,\n",
       " <networkx.classes.graph.Graph at 0x2a022c957f0>,\n",
       " <networkx.classes.graph.Graph at 0x2a022c95828>,\n",
       " <networkx.classes.graph.Graph at 0x2a022c95860>,\n",
       " <networkx.classes.graph.Graph at 0x2a022c95898>,\n",
       " <networkx.classes.graph.Graph at 0x2a022c958d0>,\n",
       " <networkx.classes.graph.Graph at 0x2a022c95908>,\n",
       " <networkx.classes.graph.Graph at 0x2a022c95630>,\n",
       " <networkx.classes.graph.Graph at 0x2a022c95978>,\n",
       " <networkx.classes.graph.Graph at 0x2a022c959b0>,\n",
       " <networkx.classes.graph.Graph at 0x2a022c959e8>,\n",
       " <networkx.classes.graph.Graph at 0x2a022c95a20>,\n",
       " <networkx.classes.graph.Graph at 0x2a022c95940>,\n",
       " <networkx.classes.graph.Graph at 0x2a022c95a90>,\n",
       " <networkx.classes.graph.Graph at 0x2a022c95ac8>,\n",
       " <networkx.classes.graph.Graph at 0x2a022c95b00>,\n",
       " <networkx.classes.graph.Graph at 0x2a022c95b38>,\n",
       " <networkx.classes.graph.Graph at 0x2a022c95b70>,\n",
       " <networkx.classes.graph.Graph at 0x2a022c95ba8>,\n",
       " <networkx.classes.graph.Graph at 0x2a022c95a58>,\n",
       " <networkx.classes.graph.Graph at 0x2a022c95c18>,\n",
       " <networkx.classes.graph.Graph at 0x2a022c95be0>,\n",
       " <networkx.classes.graph.Graph at 0x2a022c95c88>,\n",
       " <networkx.classes.graph.Graph at 0x2a022c95cc0>,\n",
       " <networkx.classes.graph.Graph at 0x2a022c95cf8>,\n",
       " <networkx.classes.graph.Graph at 0x2a022c95d30>,\n",
       " <networkx.classes.graph.Graph at 0x2a022c95d68>,\n",
       " <networkx.classes.graph.Graph at 0x2a022c95da0>,\n",
       " <networkx.classes.graph.Graph at 0x2a022c95dd8>,\n",
       " <networkx.classes.graph.Graph at 0x2a022c95e10>,\n",
       " <networkx.classes.graph.Graph at 0x2a022c95c50>,\n",
       " <networkx.classes.graph.Graph at 0x2a022c95e80>,\n",
       " <networkx.classes.graph.Graph at 0x2a022c95e48>,\n",
       " <networkx.classes.graph.Graph at 0x2a022c95ef0>,\n",
       " <networkx.classes.graph.Graph at 0x2a022c95f28>,\n",
       " <networkx.classes.graph.Graph at 0x2a022c95f60>,\n",
       " <networkx.classes.graph.Graph at 0x2a022c95f98>,\n",
       " <networkx.classes.graph.Graph at 0x2a022c95eb8>,\n",
       " <networkx.classes.graph.Graph at 0x2a022c95fd0>,\n",
       " <networkx.classes.graph.Graph at 0x2a022cd1048>,\n",
       " <networkx.classes.graph.Graph at 0x2a022cd10b8>,\n",
       " <networkx.classes.graph.Graph at 0x2a022cd1080>,\n",
       " <networkx.classes.graph.Graph at 0x2a022cd10f0>,\n",
       " <networkx.classes.graph.Graph at 0x2a022cd1160>,\n",
       " <networkx.classes.graph.Graph at 0x2a022cd1198>,\n",
       " <networkx.classes.graph.Graph at 0x2a022cd11d0>,\n",
       " <networkx.classes.graph.Graph at 0x2a022cd1208>,\n",
       " <networkx.classes.graph.Graph at 0x2a022cd1128>,\n",
       " <networkx.classes.graph.Graph at 0x2a022cd1240>,\n",
       " <networkx.classes.graph.Graph at 0x2a022cd1278>,\n",
       " <networkx.classes.graph.Graph at 0x2a022cd12b0>,\n",
       " <networkx.classes.graph.Graph at 0x2a022cd1320>,\n",
       " <networkx.classes.graph.Graph at 0x2a022cd1358>,\n",
       " <networkx.classes.graph.Graph at 0x2a022cd1390>,\n",
       " <networkx.classes.graph.Graph at 0x2a022cd13c8>,\n",
       " <networkx.classes.graph.Graph at 0x2a022cd1400>,\n",
       " <networkx.classes.graph.Graph at 0x2a022cd1438>,\n",
       " <networkx.classes.graph.Graph at 0x2a022cd1470>,\n",
       " <networkx.classes.graph.Graph at 0x2a022cd14a8>,\n",
       " <networkx.classes.graph.Graph at 0x2a022cd14e0>,\n",
       " <networkx.classes.graph.Graph at 0x2a022cd1518>,\n",
       " <networkx.classes.graph.Graph at 0x2a022cd1550>,\n",
       " <networkx.classes.graph.Graph at 0x2a022cd1588>,\n",
       " <networkx.classes.graph.Graph at 0x2a022cd15c0>,\n",
       " <networkx.classes.graph.Graph at 0x2a022cd15f8>,\n",
       " <networkx.classes.graph.Graph at 0x2a022cd12e8>,\n",
       " <networkx.classes.graph.Graph at 0x2a022cd1668>,\n",
       " <networkx.classes.graph.Graph at 0x2a022cd16a0>,\n",
       " <networkx.classes.graph.Graph at 0x2a022cd16d8>,\n",
       " <networkx.classes.graph.Graph at 0x2a022cd1710>,\n",
       " <networkx.classes.graph.Graph at 0x2a022cd1630>,\n",
       " <networkx.classes.graph.Graph at 0x2a022cd1780>,\n",
       " <networkx.classes.graph.Graph at 0x2a022cd17b8>,\n",
       " <networkx.classes.graph.Graph at 0x2a022cd17f0>,\n",
       " <networkx.classes.graph.Graph at 0x2a022cd1828>,\n",
       " <networkx.classes.graph.Graph at 0x2a022cd1860>,\n",
       " <networkx.classes.graph.Graph at 0x2a022cd1748>,\n",
       " <networkx.classes.graph.Graph at 0x2a022cd18d0>,\n",
       " <networkx.classes.graph.Graph at 0x2a022cd1898>,\n",
       " <networkx.classes.graph.Graph at 0x2a022cd1908>,\n",
       " <networkx.classes.graph.Graph at 0x2a022cd1978>,\n",
       " <networkx.classes.graph.Graph at 0x2a022cd19b0>,\n",
       " <networkx.classes.graph.Graph at 0x2a022cd19e8>,\n",
       " <networkx.classes.graph.Graph at 0x2a022cd1a20>,\n",
       " <networkx.classes.graph.Graph at 0x2a022cd1940>,\n",
       " <networkx.classes.graph.Graph at 0x2a022cd1a90>,\n",
       " <networkx.classes.graph.Graph at 0x2a022cd1ac8>,\n",
       " <networkx.classes.graph.Graph at 0x2a022cd1b00>,\n",
       " <networkx.classes.graph.Graph at 0x2a022cd1b38>,\n",
       " <networkx.classes.graph.Graph at 0x2a022cd1a58>,\n",
       " <networkx.classes.graph.Graph at 0x2a022cd1ba8>,\n",
       " <networkx.classes.graph.Graph at 0x2a022cd1be0>,\n",
       " <networkx.classes.graph.Graph at 0x2a022cd1c18>,\n",
       " <networkx.classes.graph.Graph at 0x2a022cd1c50>,\n",
       " <networkx.classes.graph.Graph at 0x2a022cd1c88>,\n",
       " <networkx.classes.graph.Graph at 0x2a022cd1b70>,\n",
       " <networkx.classes.graph.Graph at 0x2a022cd1cf8>,\n",
       " <networkx.classes.graph.Graph at 0x2a022cd1d30>,\n",
       " <networkx.classes.graph.Graph at 0x2a022cd1d68>,\n",
       " <networkx.classes.graph.Graph at 0x2a022cd1da0>,\n",
       " <networkx.classes.graph.Graph at 0x2a022cd1dd8>,\n",
       " <networkx.classes.graph.Graph at 0x2a022cd1e10>,\n",
       " <networkx.classes.graph.Graph at 0x2a022cd1e48>,\n",
       " <networkx.classes.graph.Graph at 0x2a022cd1e80>,\n",
       " <networkx.classes.graph.Graph at 0x2a022cd1eb8>,\n",
       " <networkx.classes.graph.Graph at 0x2a022cd1ef0>,\n",
       " <networkx.classes.graph.Graph at 0x2a022cd1cc0>,\n",
       " <networkx.classes.graph.Graph at 0x2a022cd1f60>,\n",
       " <networkx.classes.graph.Graph at 0x2a022cd1f98>,\n",
       " <networkx.classes.graph.Graph at 0x2a022cd1fd0>,\n",
       " <networkx.classes.graph.Graph at 0x2a022cd1f28>,\n",
       " <networkx.classes.graph.Graph at 0x2a022d11048>,\n",
       " <networkx.classes.graph.Graph at 0x2a022d110b8>,\n",
       " <networkx.classes.graph.Graph at 0x2a022d110f0>,\n",
       " <networkx.classes.graph.Graph at 0x2a022d11128>,\n",
       " <networkx.classes.graph.Graph at 0x2a022d11160>,\n",
       " <networkx.classes.graph.Graph at 0x2a022d11198>,\n",
       " <networkx.classes.graph.Graph at 0x2a022d111d0>,\n",
       " <networkx.classes.graph.Graph at 0x2a022d11208>,\n",
       " <networkx.classes.graph.Graph at 0x2a022d11240>,\n",
       " <networkx.classes.graph.Graph at 0x2a022d11278>,\n",
       " <networkx.classes.graph.Graph at 0x2a022d112b0>,\n",
       " <networkx.classes.graph.Graph at 0x2a022d112e8>,\n",
       " <networkx.classes.graph.Graph at 0x2a022d11320>,\n",
       " <networkx.classes.graph.Graph at 0x2a022d11358>,\n",
       " <networkx.classes.graph.Graph at 0x2a022d11390>,\n",
       " <networkx.classes.graph.Graph at 0x2a022d11080>,\n",
       " <networkx.classes.graph.Graph at 0x2a022d11400>,\n",
       " <networkx.classes.graph.Graph at 0x2a022d11438>,\n",
       " <networkx.classes.graph.Graph at 0x2a022d11470>,\n",
       " <networkx.classes.graph.Graph at 0x2a022d114a8>,\n",
       " <networkx.classes.graph.Graph at 0x2a022d113c8>,\n",
       " <networkx.classes.graph.Graph at 0x2a022d11518>,\n",
       " <networkx.classes.graph.Graph at 0x2a022d11550>,\n",
       " <networkx.classes.graph.Graph at 0x2a022d11588>,\n",
       " <networkx.classes.graph.Graph at 0x2a022d115c0>,\n",
       " <networkx.classes.graph.Graph at 0x2a022d115f8>,\n",
       " <networkx.classes.graph.Graph at 0x2a022d11630>,\n",
       " <networkx.classes.graph.Graph at 0x2a022d11668>,\n",
       " <networkx.classes.graph.Graph at 0x2a022d116a0>,\n",
       " <networkx.classes.graph.Graph at 0x2a022d116d8>,\n",
       " <networkx.classes.graph.Graph at 0x2a022d11710>,\n",
       " <networkx.classes.graph.Graph at 0x2a022d11748>,\n",
       " <networkx.classes.graph.Graph at 0x2a022d11780>,\n",
       " <networkx.classes.graph.Graph at 0x2a022d117b8>,\n",
       " <networkx.classes.graph.Graph at 0x2a022d117f0>,\n",
       " <networkx.classes.graph.Graph at 0x2a022d11828>,\n",
       " <networkx.classes.graph.Graph at 0x2a022d11860>,\n",
       " <networkx.classes.graph.Graph at 0x2a022d11898>,\n",
       " <networkx.classes.graph.Graph at 0x2a022d114e0>,\n",
       " <networkx.classes.graph.Graph at 0x2a022d11908>,\n",
       " <networkx.classes.graph.Graph at 0x2a022d11940>,\n",
       " <networkx.classes.graph.Graph at 0x2a022d11978>,\n",
       " <networkx.classes.graph.Graph at 0x2a022d119b0>,\n",
       " <networkx.classes.graph.Graph at 0x2a022d119e8>,\n",
       " <networkx.classes.graph.Graph at 0x2a022d11a20>,\n",
       " <networkx.classes.graph.Graph at 0x2a022d118d0>,\n",
       " <networkx.classes.graph.Graph at 0x2a022d11a90>,\n",
       " <networkx.classes.graph.Graph at 0x2a022d11ac8>,\n",
       " <networkx.classes.graph.Graph at 0x2a022d11b00>,\n",
       " <networkx.classes.graph.Graph at 0x2a022d11a58>,\n",
       " <networkx.classes.graph.Graph at 0x2a022d11b70>,\n",
       " <networkx.classes.graph.Graph at 0x2a022d11ba8>,\n",
       " <networkx.classes.graph.Graph at 0x2a022d11be0>,\n",
       " <networkx.classes.graph.Graph at 0x2a022d11b38>,\n",
       " <networkx.classes.graph.Graph at 0x2a022d11c50>,\n",
       " <networkx.classes.graph.Graph at 0x2a022d11c88>,\n",
       " <networkx.classes.graph.Graph at 0x2a022d11cc0>,\n",
       " <networkx.classes.graph.Graph at 0x2a022d11cf8>,\n",
       " <networkx.classes.graph.Graph at 0x2a022d11d30>,\n",
       " <networkx.classes.graph.Graph at 0x2a022d11c18>,\n",
       " <networkx.classes.graph.Graph at 0x2a022d11da0>,\n",
       " <networkx.classes.graph.Graph at 0x2a022d11dd8>,\n",
       " <networkx.classes.graph.Graph at 0x2a022d11e10>,\n",
       " <networkx.classes.graph.Graph at 0x2a022d11e48>,\n",
       " <networkx.classes.graph.Graph at 0x2a022d11e80>,\n",
       " <networkx.classes.graph.Graph at 0x2a022d11eb8>,\n",
       " <networkx.classes.graph.Graph at 0x2a022d11ef0>,\n",
       " <networkx.classes.graph.Graph at 0x2a022d11f28>,\n",
       " <networkx.classes.graph.Graph at 0x2a022d11f60>,\n",
       " <networkx.classes.graph.Graph at 0x2a022d11f98>,\n",
       " <networkx.classes.graph.Graph at 0x2a022d11fd0>,\n",
       " <networkx.classes.graph.Graph at 0x2a022d11d68>,\n",
       " <networkx.classes.graph.Graph at 0x2a022d42048>,\n",
       " <networkx.classes.graph.Graph at 0x2a022d42080>,\n",
       " <networkx.classes.graph.Graph at 0x2a022d420f0>,\n",
       " <networkx.classes.graph.Graph at 0x2a022d42128>,\n",
       " <networkx.classes.graph.Graph at 0x2a022d42160>,\n",
       " <networkx.classes.graph.Graph at 0x2a022d42198>,\n",
       " <networkx.classes.graph.Graph at 0x2a022d420b8>,\n",
       " <networkx.classes.graph.Graph at 0x2a022d42208>,\n",
       " <networkx.classes.graph.Graph at 0x2a022d421d0>,\n",
       " <networkx.classes.graph.Graph at 0x2a022d42278>,\n",
       " <networkx.classes.graph.Graph at 0x2a022d422b0>,\n",
       " <networkx.classes.graph.Graph at 0x2a022d422e8>,\n",
       " <networkx.classes.graph.Graph at 0x2a022d42320>,\n",
       " <networkx.classes.graph.Graph at 0x2a022d42240>,\n",
       " <networkx.classes.graph.Graph at 0x2a022d42390>,\n",
       " <networkx.classes.graph.Graph at 0x2a022d423c8>,\n",
       " <networkx.classes.graph.Graph at 0x2a022d42400>,\n",
       " <networkx.classes.graph.Graph at 0x2a022d42438>,\n",
       " <networkx.classes.graph.Graph at 0x2a022d42470>,\n",
       " <networkx.classes.graph.Graph at 0x2a022d42358>,\n",
       " <networkx.classes.graph.Graph at 0x2a022d424e0>,\n",
       " <networkx.classes.graph.Graph at 0x2a022d42518>,\n",
       " <networkx.classes.graph.Graph at 0x2a022d42550>,\n",
       " <networkx.classes.graph.Graph at 0x2a022d42588>,\n",
       " <networkx.classes.graph.Graph at 0x2a022d425c0>,\n",
       " <networkx.classes.graph.Graph at 0x2a022d424a8>,\n",
       " <networkx.classes.graph.Graph at 0x2a022d42630>,\n",
       " <networkx.classes.graph.Graph at 0x2a022d425f8>,\n",
       " <networkx.classes.graph.Graph at 0x2a022d426a0>,\n",
       " <networkx.classes.graph.Graph at 0x2a022d42668>,\n",
       " <networkx.classes.graph.Graph at 0x2a022d42710>,\n",
       " <networkx.classes.graph.Graph at 0x2a022d42748>,\n",
       " <networkx.classes.graph.Graph at 0x2a022d42780>,\n",
       " <networkx.classes.graph.Graph at 0x2a022d427b8>,\n",
       " <networkx.classes.graph.Graph at 0x2a022d427f0>,\n",
       " <networkx.classes.graph.Graph at 0x2a022d42828>,\n",
       " <networkx.classes.graph.Graph at 0x2a022d42860>,\n",
       " <networkx.classes.graph.Graph at 0x2a022d42898>,\n",
       " <networkx.classes.graph.Graph at 0x2a022d426d8>,\n",
       " <networkx.classes.graph.Graph at 0x2a022d42908>,\n",
       " <networkx.classes.graph.Graph at 0x2a022d428d0>,\n",
       " <networkx.classes.graph.Graph at 0x2a022d42978>,\n",
       " <networkx.classes.graph.Graph at 0x2a022d42940>,\n",
       " <networkx.classes.graph.Graph at 0x2a022d429e8>,\n",
       " <networkx.classes.graph.Graph at 0x2a022d429b0>,\n",
       " <networkx.classes.graph.Graph at 0x2a022d42a58>,\n",
       " <networkx.classes.graph.Graph at 0x2a022d42a90>,\n",
       " <networkx.classes.graph.Graph at 0x2a022d42ac8>,\n",
       " <networkx.classes.graph.Graph at 0x2a022d42a20>,\n",
       " <networkx.classes.graph.Graph at 0x2a022d42b38>,\n",
       " <networkx.classes.graph.Graph at 0x2a022d42b00>,\n",
       " <networkx.classes.graph.Graph at 0x2a022d42ba8>,\n",
       " <networkx.classes.graph.Graph at 0x2a022d42be0>,\n",
       " <networkx.classes.graph.Graph at 0x2a022d42c18>,\n",
       " <networkx.classes.graph.Graph at 0x2a022d42c50>,\n",
       " <networkx.classes.graph.Graph at 0x2a022d42c88>,\n",
       " <networkx.classes.graph.Graph at 0x2a022d42cc0>,\n",
       " <networkx.classes.graph.Graph at 0x2a022d42cf8>,\n",
       " <networkx.classes.graph.Graph at 0x2a022d42d30>,\n",
       " <networkx.classes.graph.Graph at 0x2a022d42d68>,\n",
       " <networkx.classes.graph.Graph at 0x2a022d42da0>,\n",
       " <networkx.classes.graph.Graph at 0x2a022d42dd8>,\n",
       " <networkx.classes.graph.Graph at 0x2a022d42b70>,\n",
       " <networkx.classes.graph.Graph at 0x2a022d42e48>,\n",
       " <networkx.classes.graph.Graph at 0x2a022d42e80>,\n",
       " <networkx.classes.graph.Graph at 0x2a022d42eb8>,\n",
       " <networkx.classes.graph.Graph at 0x2a022d42ef0>,\n",
       " <networkx.classes.graph.Graph at 0x2a022d42f28>,\n",
       " <networkx.classes.graph.Graph at 0x2a022d42f60>,\n",
       " <networkx.classes.graph.Graph at 0x2a022d42f98>,\n",
       " <networkx.classes.graph.Graph at 0x2a022d42fd0>,\n",
       " <networkx.classes.graph.Graph at 0x2a022d42e10>,\n",
       " <networkx.classes.graph.Graph at 0x2a022d79048>,\n",
       " <networkx.classes.graph.Graph at 0x2a022d790b8>,\n",
       " <networkx.classes.graph.Graph at 0x2a022d790f0>,\n",
       " <networkx.classes.graph.Graph at 0x2a022d79128>,\n",
       " <networkx.classes.graph.Graph at 0x2a022d79160>,\n",
       " <networkx.classes.graph.Graph at 0x2a022d79198>,\n",
       " <networkx.classes.graph.Graph at 0x2a022d791d0>,\n",
       " <networkx.classes.graph.Graph at 0x2a022d79208>,\n",
       " <networkx.classes.graph.Graph at 0x2a022d79240>,\n",
       " <networkx.classes.graph.Graph at 0x2a022d79278>,\n",
       " <networkx.classes.graph.Graph at 0x2a022d792b0>,\n",
       " <networkx.classes.graph.Graph at 0x2a022d792e8>,\n",
       " <networkx.classes.graph.Graph at 0x2a022d79320>,\n",
       " <networkx.classes.graph.Graph at 0x2a022d79358>,\n",
       " <networkx.classes.graph.Graph at 0x2a022d79390>,\n",
       " <networkx.classes.graph.Graph at 0x2a022d793c8>,\n",
       " <networkx.classes.graph.Graph at 0x2a022d79400>,\n",
       " <networkx.classes.graph.Graph at 0x2a022d79438>,\n",
       " <networkx.classes.graph.Graph at 0x2a022d79470>,\n",
       " <networkx.classes.graph.Graph at 0x2a022d794a8>,\n",
       " <networkx.classes.graph.Graph at 0x2a022d794e0>,\n",
       " <networkx.classes.graph.Graph at 0x2a022d79518>,\n",
       " <networkx.classes.graph.Graph at 0x2a022d79550>,\n",
       " <networkx.classes.graph.Graph at 0x2a022d79588>,\n",
       " <networkx.classes.graph.Graph at 0x2a022d795c0>,\n",
       " <networkx.classes.graph.Graph at 0x2a022d795f8>,\n",
       " <networkx.classes.graph.Graph at 0x2a022d79630>,\n",
       " <networkx.classes.graph.Graph at 0x2a022d79668>,\n",
       " <networkx.classes.graph.Graph at 0x2a022d796a0>,\n",
       " <networkx.classes.graph.Graph at 0x2a022d796d8>,\n",
       " <networkx.classes.graph.Graph at 0x2a022d79080>,\n",
       " <networkx.classes.graph.Graph at 0x2a022d79748>,\n",
       " <networkx.classes.graph.Graph at 0x2a022d79780>,\n",
       " <networkx.classes.graph.Graph at 0x2a022d797b8>,\n",
       " <networkx.classes.graph.Graph at 0x2a022d797f0>,\n",
       " <networkx.classes.graph.Graph at 0x2a022d79828>,\n",
       " <networkx.classes.graph.Graph at 0x2a022d79860>,\n",
       " <networkx.classes.graph.Graph at 0x2a022d79898>,\n",
       " <networkx.classes.graph.Graph at 0x2a022d798d0>,\n",
       " <networkx.classes.graph.Graph at 0x2a022d79908>,\n",
       " <networkx.classes.graph.Graph at 0x2a022d79940>,\n",
       " <networkx.classes.graph.Graph at 0x2a022d79978>,\n",
       " <networkx.classes.graph.Graph at 0x2a022d799b0>,\n",
       " <networkx.classes.graph.Graph at 0x2a022d799e8>,\n",
       " <networkx.classes.graph.Graph at 0x2a022d79a20>,\n",
       " <networkx.classes.graph.Graph at 0x2a022d79a58>,\n",
       " <networkx.classes.graph.Graph at 0x2a022d79a90>,\n",
       " <networkx.classes.graph.Graph at 0x2a022d79ac8>,\n",
       " <networkx.classes.graph.Graph at 0x2a022d79b00>,\n",
       " <networkx.classes.graph.Graph at 0x2a022d79b38>,\n",
       " <networkx.classes.graph.Graph at 0x2a022d79b70>,\n",
       " <networkx.classes.graph.Graph at 0x2a022d79ba8>,\n",
       " <networkx.classes.graph.Graph at 0x2a022d79be0>,\n",
       " <networkx.classes.graph.Graph at 0x2a022d79c18>,\n",
       " <networkx.classes.graph.Graph at 0x2a022d79c50>,\n",
       " <networkx.classes.graph.Graph at 0x2a022d79c88>,\n",
       " <networkx.classes.graph.Graph at 0x2a022d79cc0>,\n",
       " <networkx.classes.graph.Graph at 0x2a022d79cf8>,\n",
       " <networkx.classes.graph.Graph at 0x2a022d79d30>,\n",
       " <networkx.classes.graph.Graph at 0x2a022d79d68>,\n",
       " <networkx.classes.graph.Graph at 0x2a022d79710>,\n",
       " <networkx.classes.graph.Graph at 0x2a022d79dd8>,\n",
       " <networkx.classes.graph.Graph at 0x2a022d79e10>,\n",
       " <networkx.classes.graph.Graph at 0x2a022d79da0>,\n",
       " <networkx.classes.graph.Graph at 0x2a022d79e80>,\n",
       " <networkx.classes.graph.Graph at 0x2a022d79e48>,\n",
       " <networkx.classes.graph.Graph at 0x2a022d79ef0>,\n",
       " <networkx.classes.graph.Graph at 0x2a022d79f28>,\n",
       " <networkx.classes.graph.Graph at 0x2a022d79f60>,\n",
       " <networkx.classes.graph.Graph at 0x2a022d79f98>,\n",
       " <networkx.classes.graph.Graph at 0x2a022d79fd0>,\n",
       " <networkx.classes.graph.Graph at 0x2a022d79eb8>,\n",
       " <networkx.classes.graph.Graph at 0x2a022da5080>,\n",
       " <networkx.classes.graph.Graph at 0x2a022da50b8>,\n",
       " <networkx.classes.graph.Graph at 0x2a022da50f0>,\n",
       " <networkx.classes.graph.Graph at 0x2a022da5128>,\n",
       " <networkx.classes.graph.Graph at 0x2a022da5160>,\n",
       " <networkx.classes.graph.Graph at 0x2a022da5198>,\n",
       " <networkx.classes.graph.Graph at 0x2a022da51d0>,\n",
       " <networkx.classes.graph.Graph at 0x2a022da5208>,\n",
       " <networkx.classes.graph.Graph at 0x2a022da5240>,\n",
       " <networkx.classes.graph.Graph at 0x2a022da5278>,\n",
       " <networkx.classes.graph.Graph at 0x2a022da52b0>,\n",
       " <networkx.classes.graph.Graph at 0x2a022da52e8>,\n",
       " <networkx.classes.graph.Graph at 0x2a022da5320>,\n",
       " <networkx.classes.graph.Graph at 0x2a022da5358>,\n",
       " <networkx.classes.graph.Graph at 0x2a022da5390>,\n",
       " <networkx.classes.graph.Graph at 0x2a022da53c8>,\n",
       " <networkx.classes.graph.Graph at 0x2a022da5400>,\n",
       " <networkx.classes.graph.Graph at 0x2a022da5438>,\n",
       " <networkx.classes.graph.Graph at 0x2a022da5048>,\n",
       " <networkx.classes.graph.Graph at 0x2a022da54a8>,\n",
       " <networkx.classes.graph.Graph at 0x2a022da54e0>,\n",
       " <networkx.classes.graph.Graph at 0x2a022da5518>,\n",
       " <networkx.classes.graph.Graph at 0x2a022da5550>,\n",
       " <networkx.classes.graph.Graph at 0x2a022da5588>,\n",
       " <networkx.classes.graph.Graph at 0x2a022da55c0>,\n",
       " <networkx.classes.graph.Graph at 0x2a022da55f8>,\n",
       " <networkx.classes.graph.Graph at 0x2a022da5630>,\n",
       " <networkx.classes.graph.Graph at 0x2a022da5470>,\n",
       " <networkx.classes.graph.Graph at 0x2a022da56a0>,\n",
       " <networkx.classes.graph.Graph at 0x2a022da56d8>,\n",
       " <networkx.classes.graph.Graph at 0x2a022da5710>,\n",
       " <networkx.classes.graph.Graph at 0x2a022da5748>,\n",
       " <networkx.classes.graph.Graph at 0x2a022da5780>,\n",
       " <networkx.classes.graph.Graph at 0x2a022da57b8>,\n",
       " <networkx.classes.graph.Graph at 0x2a022da57f0>,\n",
       " <networkx.classes.graph.Graph at 0x2a022da5828>,\n",
       " <networkx.classes.graph.Graph at 0x2a022da5860>,\n",
       " <networkx.classes.graph.Graph at 0x2a022da5898>,\n",
       " <networkx.classes.graph.Graph at 0x2a022da58d0>,\n",
       " <networkx.classes.graph.Graph at 0x2a022da5908>,\n",
       " <networkx.classes.graph.Graph at 0x2a022da5940>,\n",
       " <networkx.classes.graph.Graph at 0x2a022da5978>,\n",
       " <networkx.classes.graph.Graph at 0x2a022da59b0>,\n",
       " <networkx.classes.graph.Graph at 0x2a022da59e8>,\n",
       " <networkx.classes.graph.Graph at 0x2a022da5a20>,\n",
       " <networkx.classes.graph.Graph at 0x2a022da5a58>,\n",
       " <networkx.classes.graph.Graph at 0x2a022da5a90>,\n",
       " <networkx.classes.graph.Graph at 0x2a022da5ac8>,\n",
       " <networkx.classes.graph.Graph at 0x2a022da5b00>,\n",
       " <networkx.classes.graph.Graph at 0x2a022da5b38>,\n",
       " <networkx.classes.graph.Graph at 0x2a022da5b70>,\n",
       " <networkx.classes.graph.Graph at 0x2a022da5ba8>,\n",
       " <networkx.classes.graph.Graph at 0x2a022da5be0>,\n",
       " <networkx.classes.graph.Graph at 0x2a022da5c18>,\n",
       " <networkx.classes.graph.Graph at 0x2a022da5c50>,\n",
       " <networkx.classes.graph.Graph at 0x2a022da5c88>,\n",
       " <networkx.classes.graph.Graph at 0x2a022da5cc0>,\n",
       " <networkx.classes.graph.Graph at 0x2a022da5cf8>,\n",
       " <networkx.classes.graph.Graph at 0x2a022da5d30>,\n",
       " <networkx.classes.graph.Graph at 0x2a022da5668>,\n",
       " <networkx.classes.graph.Graph at 0x2a022da5da0>,\n",
       " <networkx.classes.graph.Graph at 0x2a022da5dd8>,\n",
       " <networkx.classes.graph.Graph at 0x2a022da5e10>,\n",
       " <networkx.classes.graph.Graph at 0x2a022da5e48>,\n",
       " <networkx.classes.graph.Graph at 0x2a022da5e80>,\n",
       " <networkx.classes.graph.Graph at 0x2a022da5eb8>,\n",
       " <networkx.classes.graph.Graph at 0x2a022da5ef0>,\n",
       " <networkx.classes.graph.Graph at 0x2a022da5d68>,\n",
       " <networkx.classes.graph.Graph at 0x2a022da5f60>,\n",
       " <networkx.classes.graph.Graph at 0x2a022da5f98>,\n",
       " <networkx.classes.graph.Graph at 0x2a022da5fd0>,\n",
       " <networkx.classes.graph.Graph at 0x2a022da5f28>,\n",
       " <networkx.classes.graph.Graph at 0x2a022dd4080>,\n",
       " <networkx.classes.graph.Graph at 0x2a022dd40b8>,\n",
       " <networkx.classes.graph.Graph at 0x2a022dd4048>,\n",
       " <networkx.classes.graph.Graph at 0x2a022dd4128>,\n",
       " <networkx.classes.graph.Graph at 0x2a022dd4160>,\n",
       " <networkx.classes.graph.Graph at 0x2a022dd4198>,\n",
       " <networkx.classes.graph.Graph at 0x2a022dd41d0>,\n",
       " <networkx.classes.graph.Graph at 0x2a022dd4208>,\n",
       " <networkx.classes.graph.Graph at 0x2a022dd4240>,\n",
       " <networkx.classes.graph.Graph at 0x2a022dd4278>,\n",
       " <networkx.classes.graph.Graph at 0x2a022dd42b0>,\n",
       " <networkx.classes.graph.Graph at 0x2a022dd42e8>,\n",
       " <networkx.classes.graph.Graph at 0x2a022dd4320>,\n",
       " <networkx.classes.graph.Graph at 0x2a022dd40f0>,\n",
       " <networkx.classes.graph.Graph at 0x2a022dd4390>,\n",
       " <networkx.classes.graph.Graph at 0x2a022dd43c8>,\n",
       " <networkx.classes.graph.Graph at 0x2a022dd4400>,\n",
       " <networkx.classes.graph.Graph at 0x2a022dd4438>,\n",
       " <networkx.classes.graph.Graph at 0x2a022dd4470>,\n",
       " <networkx.classes.graph.Graph at 0x2a022dd44a8>,\n",
       " <networkx.classes.graph.Graph at 0x2a022dd44e0>,\n",
       " <networkx.classes.graph.Graph at 0x2a022dd4518>,\n",
       " <networkx.classes.graph.Graph at 0x2a022dd4550>,\n",
       " <networkx.classes.graph.Graph at 0x2a022dd4588>,\n",
       " <networkx.classes.graph.Graph at 0x2a022dd45c0>,\n",
       " <networkx.classes.graph.Graph at 0x2a022dd4358>,\n",
       " <networkx.classes.graph.Graph at 0x2a022dd4630>,\n",
       " <networkx.classes.graph.Graph at 0x2a022dd4668>,\n",
       " <networkx.classes.graph.Graph at 0x2a022dd46a0>,\n",
       " <networkx.classes.graph.Graph at 0x2a022dd46d8>,\n",
       " <networkx.classes.graph.Graph at 0x2a022dd4710>,\n",
       " <networkx.classes.graph.Graph at 0x2a022dd45f8>,\n",
       " <networkx.classes.graph.Graph at 0x2a022dd4748>,\n",
       " <networkx.classes.graph.Graph at 0x2a022dd4780>,\n",
       " <networkx.classes.graph.Graph at 0x2a022dd47f0>,\n",
       " <networkx.classes.graph.Graph at 0x2a022dd47b8>,\n",
       " <networkx.classes.graph.Graph at 0x2a022dd4860>,\n",
       " <networkx.classes.graph.Graph at 0x2a022dd4898>,\n",
       " <networkx.classes.graph.Graph at 0x2a022dd48d0>,\n",
       " <networkx.classes.graph.Graph at 0x2a022dd4908>,\n",
       " <networkx.classes.graph.Graph at 0x2a022dd4940>,\n",
       " <networkx.classes.graph.Graph at 0x2a022dd4828>,\n",
       " <networkx.classes.graph.Graph at 0x2a022dd49b0>,\n",
       " <networkx.classes.graph.Graph at 0x2a022dd49e8>,\n",
       " <networkx.classes.graph.Graph at 0x2a022dd4a20>,\n",
       " <networkx.classes.graph.Graph at 0x2a022dd4a58>,\n",
       " <networkx.classes.graph.Graph at 0x2a022dd4978>,\n",
       " <networkx.classes.graph.Graph at 0x2a022dd4ac8>,\n",
       " <networkx.classes.graph.Graph at 0x2a022dd4b00>,\n",
       " <networkx.classes.graph.Graph at 0x2a022dd4a90>,\n",
       " <networkx.classes.graph.Graph at 0x2a022dd4b70>,\n",
       " <networkx.classes.graph.Graph at 0x2a022dd4b38>,\n",
       " <networkx.classes.graph.Graph at 0x2a022dd4ba8>,\n",
       " <networkx.classes.graph.Graph at 0x2a022dd4be0>,\n",
       " <networkx.classes.graph.Graph at 0x2a022dd4c50>,\n",
       " <networkx.classes.graph.Graph at 0x2a022dd4c88>,\n",
       " <networkx.classes.graph.Graph at 0x2a022dd4c18>,\n",
       " <networkx.classes.graph.Graph at 0x2a022dd4cf8>,\n",
       " <networkx.classes.graph.Graph at 0x2a022dd4d30>,\n",
       " <networkx.classes.graph.Graph at 0x2a022dd4cc0>,\n",
       " <networkx.classes.graph.Graph at 0x2a022dd4da0>,\n",
       " <networkx.classes.graph.Graph at 0x2a022dd4dd8>,\n",
       " <networkx.classes.graph.Graph at 0x2a022dd4e10>,\n",
       " <networkx.classes.graph.Graph at 0x2a022dd4e48>,\n",
       " <networkx.classes.graph.Graph at 0x2a022dd4e80>,\n",
       " <networkx.classes.graph.Graph at 0x2a022dd4eb8>,\n",
       " <networkx.classes.graph.Graph at 0x2a022dd4ef0>,\n",
       " <networkx.classes.graph.Graph at 0x2a022dd4f28>,\n",
       " <networkx.classes.graph.Graph at 0x2a022dd4f60>,\n",
       " <networkx.classes.graph.Graph at 0x2a022dd4f98>,\n",
       " <networkx.classes.graph.Graph at 0x2a022dd4d68>,\n",
       " <networkx.classes.graph.Graph at 0x2a022dd4fd0>,\n",
       " <networkx.classes.graph.Graph at 0x2a022e17048>,\n",
       " <networkx.classes.graph.Graph at 0x2a022e170b8>,\n",
       " <networkx.classes.graph.Graph at 0x2a022e170f0>,\n",
       " <networkx.classes.graph.Graph at 0x2a022e17080>,\n",
       " <networkx.classes.graph.Graph at 0x2a022e17160>,\n",
       " <networkx.classes.graph.Graph at 0x2a022e17128>,\n",
       " <networkx.classes.graph.Graph at 0x2a022e171d0>,\n",
       " <networkx.classes.graph.Graph at 0x2a022e17208>,\n",
       " <networkx.classes.graph.Graph at 0x2a022e17240>,\n",
       " <networkx.classes.graph.Graph at 0x2a022e17198>,\n",
       " <networkx.classes.graph.Graph at 0x2a022e17278>,\n",
       " <networkx.classes.graph.Graph at 0x2a022e172b0>,\n",
       " <networkx.classes.graph.Graph at 0x2a022e17320>,\n",
       " <networkx.classes.graph.Graph at 0x2a022e17358>,\n",
       " <networkx.classes.graph.Graph at 0x2a022e172e8>,\n",
       " <networkx.classes.graph.Graph at 0x2a022e17390>,\n",
       " <networkx.classes.graph.Graph at 0x2a022e17400>,\n",
       " <networkx.classes.graph.Graph at 0x2a022e173c8>,\n",
       " <networkx.classes.graph.Graph at 0x2a022e17470>,\n",
       " <networkx.classes.graph.Graph at 0x2a022e17438>,\n",
       " <networkx.classes.graph.Graph at 0x2a022e174e0>,\n",
       " <networkx.classes.graph.Graph at 0x2a022e17518>,\n",
       " <networkx.classes.graph.Graph at 0x2a022e17550>,\n",
       " <networkx.classes.graph.Graph at 0x2a022e17588>,\n",
       " <networkx.classes.graph.Graph at 0x2a022e174a8>,\n",
       " <networkx.classes.graph.Graph at 0x2a022e175f8>,\n",
       " <networkx.classes.graph.Graph at 0x2a022e17630>,\n",
       " <networkx.classes.graph.Graph at 0x2a022e175c0>,\n",
       " <networkx.classes.graph.Graph at 0x2a022e17668>,\n",
       " <networkx.classes.graph.Graph at 0x2a022e176d8>,\n",
       " <networkx.classes.graph.Graph at 0x2a022e17710>,\n",
       " <networkx.classes.graph.Graph at 0x2a022e17748>,\n",
       " <networkx.classes.graph.Graph at 0x2a022e17780>,\n",
       " <networkx.classes.graph.Graph at 0x2a022e177b8>,\n",
       " <networkx.classes.graph.Graph at 0x2a022e177f0>,\n",
       " <networkx.classes.graph.Graph at 0x2a022e17828>,\n",
       " <networkx.classes.graph.Graph at 0x2a022e17860>,\n",
       " <networkx.classes.graph.Graph at 0x2a022e17898>,\n",
       " <networkx.classes.graph.Graph at 0x2a022e176a0>,\n",
       " <networkx.classes.graph.Graph at 0x2a022e17908>,\n",
       " <networkx.classes.graph.Graph at 0x2a022e17940>,\n",
       " <networkx.classes.graph.Graph at 0x2a022e178d0>,\n",
       " <networkx.classes.graph.Graph at 0x2a022e179b0>,\n",
       " <networkx.classes.graph.Graph at 0x2a022e179e8>,\n",
       " <networkx.classes.graph.Graph at 0x2a022e17a20>,\n",
       " <networkx.classes.graph.Graph at 0x2a022e17a58>,\n",
       " <networkx.classes.graph.Graph at 0x2a022e17a90>,\n",
       " <networkx.classes.graph.Graph at 0x2a022e17ac8>,\n",
       " <networkx.classes.graph.Graph at 0x2a022e17978>,\n",
       " <networkx.classes.graph.Graph at 0x2a022e17b38>,\n",
       " <networkx.classes.graph.Graph at 0x2a022e17b70>,\n",
       " <networkx.classes.graph.Graph at 0x2a022e17ba8>,\n",
       " <networkx.classes.graph.Graph at 0x2a022e17be0>,\n",
       " <networkx.classes.graph.Graph at 0x2a022e17c18>,\n",
       " <networkx.classes.graph.Graph at 0x2a022e17c50>,\n",
       " <networkx.classes.graph.Graph at 0x2a022e17c88>,\n",
       " <networkx.classes.graph.Graph at 0x2a022e17b00>,\n",
       " <networkx.classes.graph.Graph at 0x2a022e17cf8>,\n",
       " <networkx.classes.graph.Graph at 0x2a022e17d30>,\n",
       " <networkx.classes.graph.Graph at 0x2a022e17d68>,\n",
       " <networkx.classes.graph.Graph at 0x2a022e17cc0>,\n",
       " <networkx.classes.graph.Graph at 0x2a022e17dd8>,\n",
       " <networkx.classes.graph.Graph at 0x2a022e17e10>,\n",
       " <networkx.classes.graph.Graph at 0x2a022e17da0>,\n",
       " <networkx.classes.graph.Graph at 0x2a022e17e48>,\n",
       " <networkx.classes.graph.Graph at 0x2a022e17e80>,\n",
       " <networkx.classes.graph.Graph at 0x2a022e17eb8>,\n",
       " <networkx.classes.graph.Graph at 0x2a022e17f28>,\n",
       " <networkx.classes.graph.Graph at 0x2a022e17f60>,\n",
       " <networkx.classes.graph.Graph at 0x2a022e17f98>,\n",
       " <networkx.classes.graph.Graph at 0x2a022e17ef0>,\n",
       " <networkx.classes.graph.Graph at 0x2a022e17fd0>,\n",
       " <networkx.classes.graph.Graph at 0x2a027818048>,\n",
       " <networkx.classes.graph.Graph at 0x2a0278180b8>,\n",
       " <networkx.classes.graph.Graph at 0x2a0278180f0>,\n",
       " <networkx.classes.graph.Graph at 0x2a027818128>,\n",
       " <networkx.classes.graph.Graph at 0x2a027818160>,\n",
       " <networkx.classes.graph.Graph at 0x2a027818198>,\n",
       " <networkx.classes.graph.Graph at 0x2a0278181d0>,\n",
       " <networkx.classes.graph.Graph at 0x2a027818208>,\n",
       " <networkx.classes.graph.Graph at 0x2a027818240>,\n",
       " <networkx.classes.graph.Graph at 0x2a027818080>,\n",
       " <networkx.classes.graph.Graph at 0x2a0278182b0>,\n",
       " <networkx.classes.graph.Graph at 0x2a0278182e8>,\n",
       " <networkx.classes.graph.Graph at 0x2a027818278>,\n",
       " <networkx.classes.graph.Graph at 0x2a027818358>,\n",
       " <networkx.classes.graph.Graph at 0x2a027818320>,\n",
       " <networkx.classes.graph.Graph at 0x2a027818390>,\n",
       " <networkx.classes.graph.Graph at 0x2a0278183c8>,\n",
       " <networkx.classes.graph.Graph at 0x2a027818438>,\n",
       " <networkx.classes.graph.Graph at 0x2a027818470>,\n",
       " <networkx.classes.graph.Graph at 0x2a0278184a8>,\n",
       " <networkx.classes.graph.Graph at 0x2a0278184e0>,\n",
       " <networkx.classes.graph.Graph at 0x2a027818400>,\n",
       " <networkx.classes.graph.Graph at 0x2a027818550>,\n",
       " <networkx.classes.graph.Graph at 0x2a027818588>,\n",
       " <networkx.classes.graph.Graph at 0x2a027818518>,\n",
       " <networkx.classes.graph.Graph at 0x2a0278185f8>,\n",
       " <networkx.classes.graph.Graph at 0x2a027818630>,\n",
       " <networkx.classes.graph.Graph at 0x2a027818668>,\n",
       " <networkx.classes.graph.Graph at 0x2a0278186a0>,\n",
       " <networkx.classes.graph.Graph at 0x2a0278186d8>,\n",
       " <networkx.classes.graph.Graph at 0x2a027818710>,\n",
       " <networkx.classes.graph.Graph at 0x2a0278185c0>,\n",
       " <networkx.classes.graph.Graph at 0x2a027818780>,\n",
       " <networkx.classes.graph.Graph at 0x2a027818748>,\n",
       " <networkx.classes.graph.Graph at 0x2a0278187f0>,\n",
       " <networkx.classes.graph.Graph at 0x2a027818828>,\n",
       " <networkx.classes.graph.Graph at 0x2a027818860>,\n",
       " <networkx.classes.graph.Graph at 0x2a027818898>,\n",
       " <networkx.classes.graph.Graph at 0x2a0278188d0>,\n",
       " <networkx.classes.graph.Graph at 0x2a0278187b8>,\n",
       " <networkx.classes.graph.Graph at 0x2a027818940>,\n",
       " <networkx.classes.graph.Graph at 0x2a027818978>,\n",
       " <networkx.classes.graph.Graph at 0x2a0278189b0>,\n",
       " <networkx.classes.graph.Graph at 0x2a0278189e8>,\n",
       " <networkx.classes.graph.Graph at 0x2a027818a20>,\n",
       " <networkx.classes.graph.Graph at 0x2a027818a58>,\n",
       " <networkx.classes.graph.Graph at 0x2a027818a90>,\n",
       " <networkx.classes.graph.Graph at 0x2a027818ac8>,\n",
       " <networkx.classes.graph.Graph at 0x2a027818b00>,\n",
       " <networkx.classes.graph.Graph at 0x2a027818b38>,\n",
       " <networkx.classes.graph.Graph at 0x2a027818b70>,\n",
       " <networkx.classes.graph.Graph at 0x2a027818ba8>,\n",
       " <networkx.classes.graph.Graph at 0x2a027818be0>,\n",
       " <networkx.classes.graph.Graph at 0x2a027818c18>,\n",
       " <networkx.classes.graph.Graph at 0x2a027818c50>,\n",
       " <networkx.classes.graph.Graph at 0x2a027818c88>,\n",
       " <networkx.classes.graph.Graph at 0x2a027818cc0>,\n",
       " <networkx.classes.graph.Graph at 0x2a027818cf8>,\n",
       " <networkx.classes.graph.Graph at 0x2a027818d30>,\n",
       " <networkx.classes.graph.Graph at 0x2a027818d68>,\n",
       " <networkx.classes.graph.Graph at 0x2a027818da0>,\n",
       " <networkx.classes.graph.Graph at 0x2a027818dd8>,\n",
       " <networkx.classes.graph.Graph at 0x2a027818e10>,\n",
       " <networkx.classes.graph.Graph at 0x2a027818e48>,\n",
       " <networkx.classes.graph.Graph at 0x2a027818e80>,\n",
       " <networkx.classes.graph.Graph at 0x2a027818eb8>,\n",
       " <networkx.classes.graph.Graph at 0x2a027818ef0>,\n",
       " <networkx.classes.graph.Graph at 0x2a027818f28>,\n",
       " <networkx.classes.graph.Graph at 0x2a027818f60>,\n",
       " <networkx.classes.graph.Graph at 0x2a027818f98>,\n",
       " <networkx.classes.graph.Graph at 0x2a027818fd0>,\n",
       " <networkx.classes.graph.Graph at 0x2a027818908>,\n",
       " <networkx.classes.graph.Graph at 0x2a027859080>,\n",
       " <networkx.classes.graph.Graph at 0x2a0278590b8>,\n",
       " <networkx.classes.graph.Graph at 0x2a0278590f0>,\n",
       " <networkx.classes.graph.Graph at 0x2a027859128>,\n",
       " <networkx.classes.graph.Graph at 0x2a027859160>,\n",
       " <networkx.classes.graph.Graph at 0x2a027859198>,\n",
       " <networkx.classes.graph.Graph at 0x2a0278591d0>,\n",
       " <networkx.classes.graph.Graph at 0x2a027859208>,\n",
       " <networkx.classes.graph.Graph at 0x2a027859240>,\n",
       " <networkx.classes.graph.Graph at 0x2a027859048>,\n",
       " <networkx.classes.graph.Graph at 0x2a0278592b0>,\n",
       " <networkx.classes.graph.Graph at 0x2a0278592e8>,\n",
       " <networkx.classes.graph.Graph at 0x2a027859320>,\n",
       " <networkx.classes.graph.Graph at 0x2a027859358>,\n",
       " <networkx.classes.graph.Graph at 0x2a027859390>,\n",
       " <networkx.classes.graph.Graph at 0x2a027859278>,\n",
       " <networkx.classes.graph.Graph at 0x2a027859400>,\n",
       " <networkx.classes.graph.Graph at 0x2a027859438>,\n",
       " <networkx.classes.graph.Graph at 0x2a0278593c8>,\n",
       " <networkx.classes.graph.Graph at 0x2a0278594a8>,\n",
       " <networkx.classes.graph.Graph at 0x2a027859470>,\n",
       " <networkx.classes.graph.Graph at 0x2a027859518>,\n",
       " <networkx.classes.graph.Graph at 0x2a027859550>,\n",
       " <networkx.classes.graph.Graph at 0x2a0278594e0>,\n",
       " <networkx.classes.graph.Graph at 0x2a027859588>,\n",
       " <networkx.classes.graph.Graph at 0x2a0278595f8>,\n",
       " <networkx.classes.graph.Graph at 0x2a027859630>,\n",
       " <networkx.classes.graph.Graph at 0x2a027859668>,\n",
       " <networkx.classes.graph.Graph at 0x2a0278596a0>,\n",
       " <networkx.classes.graph.Graph at 0x2a0278596d8>,\n",
       " <networkx.classes.graph.Graph at 0x2a027859710>,\n",
       " <networkx.classes.graph.Graph at 0x2a027859748>,\n",
       " <networkx.classes.graph.Graph at 0x2a027859780>,\n",
       " <networkx.classes.graph.Graph at 0x2a0278597b8>,\n",
       " <networkx.classes.graph.Graph at 0x2a0278597f0>,\n",
       " <networkx.classes.graph.Graph at 0x2a027859828>,\n",
       " <networkx.classes.graph.Graph at 0x2a027859860>,\n",
       " <networkx.classes.graph.Graph at 0x2a0278595c0>,\n",
       " <networkx.classes.graph.Graph at 0x2a0278598d0>,\n",
       " <networkx.classes.graph.Graph at 0x2a027859908>,\n",
       " <networkx.classes.graph.Graph at 0x2a027859940>,\n",
       " <networkx.classes.graph.Graph at 0x2a027859978>,\n",
       " <networkx.classes.graph.Graph at 0x2a027859898>,\n",
       " <networkx.classes.graph.Graph at 0x2a0278599b0>,\n",
       " <networkx.classes.graph.Graph at 0x2a027859a20>,\n",
       " <networkx.classes.graph.Graph at 0x2a027859a58>,\n",
       " <networkx.classes.graph.Graph at 0x2a0278599e8>,\n",
       " <networkx.classes.graph.Graph at 0x2a027859ac8>,\n",
       " <networkx.classes.graph.Graph at 0x2a027859b00>,\n",
       " <networkx.classes.graph.Graph at 0x2a027859b38>,\n",
       " <networkx.classes.graph.Graph at 0x2a027859b70>,\n",
       " <networkx.classes.graph.Graph at 0x2a027859ba8>,\n",
       " <networkx.classes.graph.Graph at 0x2a027859be0>,\n",
       " <networkx.classes.graph.Graph at 0x2a027859c18>,\n",
       " <networkx.classes.graph.Graph at 0x2a027859c50>,\n",
       " <networkx.classes.graph.Graph at 0x2a027859c88>,\n",
       " <networkx.classes.graph.Graph at 0x2a027859cc0>,\n",
       " <networkx.classes.graph.Graph at 0x2a027859cf8>,\n",
       " <networkx.classes.graph.Graph at 0x2a027859a90>,\n",
       " <networkx.classes.graph.Graph at 0x2a027859d68>,\n",
       " <networkx.classes.graph.Graph at 0x2a027859da0>,\n",
       " <networkx.classes.graph.Graph at 0x2a027859dd8>,\n",
       " <networkx.classes.graph.Graph at 0x2a027859e10>,\n",
       " <networkx.classes.graph.Graph at 0x2a027859d30>,\n",
       " <networkx.classes.graph.Graph at 0x2a027859e48>,\n",
       " <networkx.classes.graph.Graph at 0x2a027859eb8>,\n",
       " <networkx.classes.graph.Graph at 0x2a027859ef0>,\n",
       " <networkx.classes.graph.Graph at 0x2a027859f28>,\n",
       " <networkx.classes.graph.Graph at 0x2a027859f60>,\n",
       " <networkx.classes.graph.Graph at 0x2a027859f98>,\n",
       " <networkx.classes.graph.Graph at 0x2a027859fd0>,\n",
       " <networkx.classes.graph.Graph at 0x2a027859e80>,\n",
       " <networkx.classes.graph.Graph at 0x2a027897080>,\n",
       " <networkx.classes.graph.Graph at 0x2a0278970b8>,\n",
       " <networkx.classes.graph.Graph at 0x2a0278970f0>,\n",
       " <networkx.classes.graph.Graph at 0x2a027897128>,\n",
       " <networkx.classes.graph.Graph at 0x2a027897160>,\n",
       " <networkx.classes.graph.Graph at 0x2a027897198>,\n",
       " <networkx.classes.graph.Graph at 0x2a0278971d0>,\n",
       " <networkx.classes.graph.Graph at 0x2a027897208>,\n",
       " <networkx.classes.graph.Graph at 0x2a027897048>,\n",
       " <networkx.classes.graph.Graph at 0x2a027897278>,\n",
       " <networkx.classes.graph.Graph at 0x2a027897240>,\n",
       " <networkx.classes.graph.Graph at 0x2a0278972e8>,\n",
       " <networkx.classes.graph.Graph at 0x2a027897320>,\n",
       " <networkx.classes.graph.Graph at 0x2a027897358>,\n",
       " <networkx.classes.graph.Graph at 0x2a027897390>,\n",
       " <networkx.classes.graph.Graph at 0x2a0278973c8>,\n",
       " <networkx.classes.graph.Graph at 0x2a027897400>,\n",
       " <networkx.classes.graph.Graph at 0x2a027897438>,\n",
       " <networkx.classes.graph.Graph at 0x2a027897470>,\n",
       " <networkx.classes.graph.Graph at 0x2a0278974a8>,\n",
       " <networkx.classes.graph.Graph at 0x2a0278972b0>,\n",
       " <networkx.classes.graph.Graph at 0x2a027897518>,\n",
       " <networkx.classes.graph.Graph at 0x2a027897550>,\n",
       " <networkx.classes.graph.Graph at 0x2a0278974e0>,\n",
       " <networkx.classes.graph.Graph at 0x2a0278975c0>,\n",
       " <networkx.classes.graph.Graph at 0x2a0278975f8>,\n",
       " <networkx.classes.graph.Graph at 0x2a027897630>,\n",
       " <networkx.classes.graph.Graph at 0x2a027897588>,\n",
       " <networkx.classes.graph.Graph at 0x2a0278976a0>,\n",
       " <networkx.classes.graph.Graph at 0x2a0278976d8>,\n",
       " <networkx.classes.graph.Graph at 0x2a027897710>,\n",
       " <networkx.classes.graph.Graph at 0x2a027897748>,\n",
       " <networkx.classes.graph.Graph at 0x2a027897780>,\n",
       " <networkx.classes.graph.Graph at 0x2a027897668>,\n",
       " <networkx.classes.graph.Graph at 0x2a0278977f0>,\n",
       " <networkx.classes.graph.Graph at 0x2a0278977b8>,\n",
       " <networkx.classes.graph.Graph at 0x2a027897860>,\n",
       " <networkx.classes.graph.Graph at 0x2a027897898>,\n",
       " <networkx.classes.graph.Graph at 0x2a0278978d0>,\n",
       " <networkx.classes.graph.Graph at 0x2a027897828>,\n",
       " <networkx.classes.graph.Graph at 0x2a027897908>,\n",
       " <networkx.classes.graph.Graph at 0x2a027897940>,\n",
       " <networkx.classes.graph.Graph at 0x2a027897978>,\n",
       " <networkx.classes.graph.Graph at 0x2a0278979e8>,\n",
       " <networkx.classes.graph.Graph at 0x2a027897a20>,\n",
       " <networkx.classes.graph.Graph at 0x2a027897a58>,\n",
       " <networkx.classes.graph.Graph at 0x2a027897a90>,\n",
       " <networkx.classes.graph.Graph at 0x2a027897ac8>,\n",
       " <networkx.classes.graph.Graph at 0x2a027897b00>,\n",
       " <networkx.classes.graph.Graph at 0x2a027897b38>,\n",
       " <networkx.classes.graph.Graph at 0x2a027897b70>,\n",
       " <networkx.classes.graph.Graph at 0x2a0278979b0>,\n",
       " <networkx.classes.graph.Graph at 0x2a027897be0>,\n",
       " <networkx.classes.graph.Graph at 0x2a027897c18>,\n",
       " <networkx.classes.graph.Graph at 0x2a027897c50>,\n",
       " <networkx.classes.graph.Graph at 0x2a027897c88>,\n",
       " <networkx.classes.graph.Graph at 0x2a027897ba8>,\n",
       " <networkx.classes.graph.Graph at 0x2a027897cc0>,\n",
       " <networkx.classes.graph.Graph at 0x2a027897d30>,\n",
       " <networkx.classes.graph.Graph at 0x2a027897d68>,\n",
       " <networkx.classes.graph.Graph at 0x2a027897da0>,\n",
       " <networkx.classes.graph.Graph at 0x2a027897dd8>,\n",
       " <networkx.classes.graph.Graph at 0x2a027897e10>,\n",
       " <networkx.classes.graph.Graph at 0x2a027897e48>,\n",
       " <networkx.classes.graph.Graph at 0x2a027897e80>,\n",
       " <networkx.classes.graph.Graph at 0x2a027897eb8>,\n",
       " <networkx.classes.graph.Graph at 0x2a027897ef0>,\n",
       " <networkx.classes.graph.Graph at 0x2a027897f28>,\n",
       " <networkx.classes.graph.Graph at 0x2a027897f60>,\n",
       " <networkx.classes.graph.Graph at 0x2a027897f98>,\n",
       " <networkx.classes.graph.Graph at 0x2a027897fd0>,\n",
       " <networkx.classes.graph.Graph at 0x2a027897cf8>,\n",
       " <networkx.classes.graph.Graph at 0x2a0278d8048>,\n",
       " <networkx.classes.graph.Graph at 0x2a0278d80b8>,\n",
       " <networkx.classes.graph.Graph at 0x2a0278d80f0>,\n",
       " <networkx.classes.graph.Graph at 0x2a0278d8128>,\n",
       " <networkx.classes.graph.Graph at 0x2a0278d8160>,\n",
       " <networkx.classes.graph.Graph at 0x2a0278d8198>,\n",
       " <networkx.classes.graph.Graph at 0x2a0278d81d0>,\n",
       " <networkx.classes.graph.Graph at 0x2a0278d8208>,\n",
       " <networkx.classes.graph.Graph at 0x2a0278d8240>,\n",
       " <networkx.classes.graph.Graph at 0x2a0278d8278>,\n",
       " <networkx.classes.graph.Graph at 0x2a0278d82b0>,\n",
       " <networkx.classes.graph.Graph at 0x2a0278d82e8>,\n",
       " <networkx.classes.graph.Graph at 0x2a0278d8320>,\n",
       " <networkx.classes.graph.Graph at 0x2a0278d8358>,\n",
       " <networkx.classes.graph.Graph at 0x2a0278d8390>,\n",
       " <networkx.classes.graph.Graph at 0x2a0278d83c8>,\n",
       " <networkx.classes.graph.Graph at 0x2a0278d8400>,\n",
       " <networkx.classes.graph.Graph at 0x2a0278d8438>,\n",
       " <networkx.classes.graph.Graph at 0x2a0278d8470>,\n",
       " <networkx.classes.graph.Graph at 0x2a0278d84a8>,\n",
       " <networkx.classes.graph.Graph at 0x2a0278d8080>,\n",
       " <networkx.classes.graph.Graph at 0x2a0278d84e0>,\n",
       " <networkx.classes.graph.Graph at 0x2a0278d8550>,\n",
       " <networkx.classes.graph.Graph at 0x2a0278d8588>,\n",
       " <networkx.classes.graph.Graph at 0x2a0278d85c0>,\n",
       " <networkx.classes.graph.Graph at 0x2a0278d85f8>,\n",
       " <networkx.classes.graph.Graph at 0x2a0278d8630>,\n",
       " <networkx.classes.graph.Graph at 0x2a0278d8668>,\n",
       " <networkx.classes.graph.Graph at 0x2a0278d86a0>,\n",
       " <networkx.classes.graph.Graph at 0x2a0278d86d8>,\n",
       " <networkx.classes.graph.Graph at 0x2a0278d8710>,\n",
       " <networkx.classes.graph.Graph at 0x2a0278d8748>,\n",
       " <networkx.classes.graph.Graph at 0x2a0278d8780>,\n",
       " <networkx.classes.graph.Graph at 0x2a0278d87b8>,\n",
       " <networkx.classes.graph.Graph at 0x2a0278d87f0>,\n",
       " <networkx.classes.graph.Graph at 0x2a0278d8828>,\n",
       " <networkx.classes.graph.Graph at 0x2a0278d8860>,\n",
       " <networkx.classes.graph.Graph at 0x2a0278d8898>,\n",
       " <networkx.classes.graph.Graph at 0x2a0278d88d0>,\n",
       " ...]"
      ]
     },
     "execution_count": 12,
     "metadata": {},
     "output_type": "execute_result"
    }
   ],
   "source": [
    "components = list(nx.connected_component_subgraphs(g))\n",
    "components"
   ]
  },
  {
   "cell_type": "code",
   "execution_count": 16,
   "metadata": {},
   "outputs": [],
   "source": [
    "for component in components:\n",
    "    if component.number_of_nodes()==16:\n",
    "        comp_A = component\n",
    "    elif component.number_of_nodes()==14:\n",
    "        comp_B = component"
   ]
  },
  {
   "cell_type": "code",
   "execution_count": 31,
   "metadata": {},
   "outputs": [
    {
     "data": {
      "text/plain": [
       "0.49166666666666664"
      ]
     },
     "execution_count": 31,
     "metadata": {},
     "output_type": "execute_result"
    }
   ],
   "source": [
    "nx.density(comp_A)"
   ]
  },
  {
   "cell_type": "code",
   "execution_count": 32,
   "metadata": {},
   "outputs": [
    {
     "data": {
      "text/plain": [
       "0.14285714285714285"
      ]
     },
     "execution_count": 32,
     "metadata": {},
     "output_type": "execute_result"
    }
   ],
   "source": [
    "nx.density(comp_B)"
   ]
  },
  {
   "cell_type": "code",
   "execution_count": 33,
   "metadata": {},
   "outputs": [
    {
     "data": {
      "text/plain": [
       "DegreeView({'34594': 10, '34597': 9, '34592': 11, '34602': 6, '34601': 6, '34590': 7, '34591': 7, '34596': 9, '34595': 7, '34593': 7, '34598': 9, '34600': 3, '34603': 6, '34589': 7, '34588': 7, '34599': 7})"
      ]
     },
     "execution_count": 33,
     "metadata": {},
     "output_type": "execute_result"
    }
   ],
   "source": [
    "nx.degree(comp_A)"
   ]
  },
  {
   "cell_type": "code",
   "execution_count": 34,
   "metadata": {},
   "outputs": [
    {
     "data": {
      "text/plain": [
       "DegreeView({'36142': 1, '36147': 1, '36146': 1, '36134': 1, '36138': 1, '36135': 13, '36136': 1, '36144': 1, '36143': 1, '36140': 1, '36137': 1, '36139': 1, '36141': 1, '36145': 1})"
      ]
     },
     "execution_count": 34,
     "metadata": {},
     "output_type": "execute_result"
    }
   ],
   "source": [
    "nx.degree(comp_B)"
   ]
  },
  {
   "cell_type": "code",
   "execution_count": 29,
   "metadata": {},
   "outputs": [
    {
     "data": {
      "image/png": "[encoded data removed]",
      "text/plain": [
       "<Figure size 432x288 with 1 Axes>"
      ]
     },
     "metadata": {},
     "output_type": "display_data"
    }
   ],
   "source": [
    "nx.draw_spring(comp_A, with_labels=True)"
   ]
  },
  {
   "cell_type": "code",
   "execution_count": 30,
   "metadata": {},
   "outputs": [
    {
     "data": {
      "image/png": "[encoded data removed]",
      "text/plain": [
       "<Figure size 432x288 with 1 Axes>"
      ]
     },
     "metadata": {},
     "output_type": "display_data"
    }
   ],
   "source": [
    "nx.draw_spring(comp_B, with_labels=True)"
   ]
  },
  {
   "cell_type": "markdown",
   "metadata": {},
   "source": [
    "Q6. Please create a textbox to summarize the difference between comp_A and compB. You need to at least compare these two subgraphs with respect to average degree and density. You don’t need to write code for this task."
   ]
  },
  {
   "cell_type": "markdown",
   "metadata": {},
   "source": [
    "The density of comp A is much higher than that of B because all of the nodes in B only have ties to 36135 where the nodes in A have multiple ties which would increase the density. Comp B is a star graph with much higher degree than that of A. Each of hte nodes in B is centered on 36135 while A has various nodes that have multiple connections. "
   ]
  },
  {
   "cell_type": "markdown",
   "metadata": {},
   "source": [
    "Q7. Please write code to use the Louvain modularity method to detect communities within Component A with 16 nodes. Please visualize the different communities using different colors as I did in socialnet_example.ipynb. Please write code to print the number of communities you discovered.  "
   ]
  },
  {
   "cell_type": "code",
   "execution_count": 38,
   "metadata": {},
   "outputs": [
    {
     "data": {
      "image/png": "[encoded data removed]",
      "text/plain": [
       "<Figure size 432x288 with 1 Axes>"
      ]
     },
     "metadata": {},
     "output_type": "display_data"
    },
    {
     "name": "stdout",
     "output_type": "stream",
     "text": [
      "[('34594', 0), ('34597', 1), ('34592', 0), ('34602', 1), ('34601', 1), ('34590', 0), ('34591', 0), ('34596', 1), ('34595', 0), ('34593', 0), ('34598', 1), ('34600', 1), ('34603', 1), ('34589', 0), ('34588', 0), ('34599', 1)]\n"
     ]
    }
   ],
   "source": [
    "partition = community.best_partition(comp_A)\n",
    "#drawing\n",
    "size = float(len(set(partition.values())))\n",
    "pos = nx.spring_layout(comp_A)\n",
    "count = 0\n",
    "colors = [\"r\", \"b\", \"k\", \"y\"]\n",
    "for com in set(partition.values()) :  \n",
    "    list_nodes = [nodes for nodes in partition.keys()if partition[nodes] == com]\n",
    "    nx.draw_networkx_nodes(comp_A, pos, list_nodes, node_size = 20, node_color = colors[count])\n",
    "    count += 1\n",
    "nx.draw_networkx_edges(comp_A, pos, alpha=0.5)\n",
    "plt.show()\n",
    "values = [(node, partition.get(node)) for node in comp_A.nodes()]\n",
    "print(values)"
   ]
  },
  {
   "cell_type": "code",
   "execution_count": 37,
   "metadata": {},
   "outputs": [
    {
     "data": {
      "image/png": "[encoded data removed]",
      "text/plain": [
       "<Figure size 432x288 with 1 Axes>"
      ]
     },
     "metadata": {},
     "output_type": "display_data"
    },
    {
     "name": "stdout",
     "output_type": "stream",
     "text": [
      "[('36142', 0), ('36147', 0), ('36146', 0), ('36134', 0), ('36138', 0), ('36135', 0), ('36136', 0), ('36144', 0), ('36143', 0), ('36140', 0), ('36137', 0), ('36139', 0), ('36141', 0), ('36145', 0)]\n"
     ]
    }
   ],
   "source": [
    "partition = community.best_partition(comp_B)\n",
    "#drawing\n",
    "size = float(len(set(partition.values())))\n",
    "pos = nx.spring_layout(comp_B)\n",
    "count = 0\n",
    "colors = [\"r\", \"b\", \"k\", \"y\"]\n",
    "for com in set(partition.values()) :  \n",
    "    list_nodes = [nodes for nodes in partition.keys()if partition[nodes] == com]\n",
    "    nx.draw_networkx_nodes(comp_B, pos, list_nodes, node_size = 20, node_color = colors[count])\n",
    "    count += 1\n",
    "nx.draw_networkx_edges(comp_B, pos, alpha=0.5)\n",
    "plt.show()\n",
    "values = [(node, partition.get(node)) for node in comp_B.nodes()]\n",
    "print(values)"
   ]
  },
  {
   "cell_type": "markdown",
   "metadata": {},
   "source": [
    "It is clear from the Louvain modularity that comp A has two distinct communities whereas the star graph in B only has one. "
   ]
  },
  {
   "cell_type": "markdown",
   "metadata": {},
   "source": [
    "Q8. Please write code to print the number of cliques in comp_A. Please write code to show the nodes in the largest clique."
   ]
  },
  {
   "cell_type": "code",
   "execution_count": 47,
   "metadata": {},
   "outputs": [
    {
     "data": {
      "text/plain": [
       "5"
      ]
     },
     "execution_count": 47,
     "metadata": {},
     "output_type": "execute_result"
    }
   ],
   "source": [
    "#number of cliques\n",
    "nx.graph_number_of_cliques(comp_A)"
   ]
  },
  {
   "cell_type": "code",
   "execution_count": 59,
   "metadata": {},
   "outputs": [
    {
     "name": "stdout",
     "output_type": "stream",
     "text": [
      "['34592', '34594', '34596', '34597', '34598']\n",
      "['34592', '34594', '34590', '34591', '34588', '34589', '34595', '34593']\n",
      "['34592', '34599', '34596', '34597', '34598']\n",
      "['34602', '34597', '34601', '34599', '34603', '34596', '34598']\n",
      "['34600', '34596', '34597', '34598']\n"
     ]
    }
   ],
   "source": [
    "# find cliques\n",
    "for cliq in nx.find_cliques(comp_A):\n",
    "    print(cliq)"
   ]
  },
  {
   "cell_type": "code",
   "execution_count": 50,
   "metadata": {},
   "outputs": [
    {
     "data": {
      "image/png": "[encoded data removed]",
      "text/plain": [
       "<Figure size 432x288 with 1 Axes>"
      ]
     },
     "metadata": {},
     "output_type": "display_data"
    }
   ],
   "source": [
    "nx.draw_spring(nx.make_max_clique_graph(comp_A),with_labels=True)"
   ]
  },
  {
   "cell_type": "code",
   "execution_count": 52,
   "metadata": {},
   "outputs": [
    {
     "data": {
      "text/plain": [
       "{'34594': 8,\n",
       " '34597': 7,\n",
       " '34592': 8,\n",
       " '34602': 7,\n",
       " '34601': 7,\n",
       " '34590': 8,\n",
       " '34591': 8,\n",
       " '34596': 7,\n",
       " '34595': 8,\n",
       " '34593': 8,\n",
       " '34598': 7,\n",
       " '34600': 4,\n",
       " '34603': 7,\n",
       " '34589': 8,\n",
       " '34588': 8,\n",
       " '34599': 7}"
      ]
     },
     "execution_count": 52,
     "metadata": {},
     "output_type": "execute_result"
    }
   ],
   "source": [
    "nx.node_clique_number(comp_A)"
   ]
  },
  {
   "cell_type": "markdown",
   "metadata": {},
   "source": [
    "The second clique with 34592, 34594, 34590, 34591, 34588, 34589, 34595, and 34593 is the largest clique amongst the 5 cliques in comp A."
   ]
  },
  {
   "cell_type": "markdown",
   "metadata": {},
   "source": [
    "Q9. Please create a textbox. Please tell me in the textbox which two nodes (people) in comp_A are likely to have similar opinions and why, and which two nodes in comp_A are likely to have different opinions and why. (you don’t need to write code for this)"
   ]
  },
  {
   "cell_type": "markdown",
   "metadata": {},
   "source": [
    "34592 and 34594 are most likely to share the same opinion because both nodes are in two different cliques together. Both of those nodes are not in any of the cliques with 34602 and 34600 and are on different communities which would suggest they would not share the same opinions. "
   ]
  },
  {
   "cell_type": "markdown",
   "metadata": {},
   "source": [
    "Q10. Find important nodes in comp_A using at least three centrality measures. For each measure, please write code to print a datafame with two columns “node” and centrality (e.g., betweenness_centrality or closeness_centrality) and the dataframe needs to be sorted by the centrality measure in a descending order. Pease note you just need to run the centrality computations for comp_A rather than the whole network. It takes very long time to obtain the centrality measures for the whole network. Please create a textbox to summarize the results you obtained from the different centrality measures (you need to tell me if these different measures give similar results in identifying the most important people in the network; if not, why the results are different (here you cannot just say the results are different because I used different measures. You need to compare different measures and discuss their implications)). \n",
    "\n"
   ]
  },
  {
   "cell_type": "code",
   "execution_count": 60,
   "metadata": {},
   "outputs": [
    {
     "name": "stdout",
     "output_type": "stream",
     "text": [
      "     node  betweenness\n",
      "2   34592     0.271769\n",
      "0   34594     0.187755\n",
      "1   34597     0.106122\n",
      "7   34596     0.106122\n",
      "10  34598     0.106122\n",
      "15  34599     0.031633\n",
      "3   34602     0.000000\n",
      "4   34601     0.000000\n",
      "5   34590     0.000000\n",
      "6   34591     0.000000\n",
      "8   34595     0.000000\n",
      "9   34593     0.000000\n",
      "11  34600     0.000000\n",
      "12  34603     0.000000\n",
      "13  34589     0.000000\n",
      "14  34588     0.000000\n"
     ]
    }
   ],
   "source": [
    "# compute node betweenness of a graph\n",
    "between = nx.betweenness_centrality(comp_A)\n",
    "# convert it to pandas dataframe\n",
    "df_between = pd.DataFrame(list(between.items()), columns=[\"node\", \"betweenness\"])\n",
    "# sort nodes by betweenness in descending order\n",
    "df_between = df_between.sort_values(\"betweenness\", ascending=False)\n",
    "print(df_between)"
   ]
  },
  {
   "cell_type": "markdown",
   "metadata": {},
   "source": [
    "Betweenness centrality produces results that correspond to my answer in question 9; 34592 and 34594 are very similiar and different than 34602 and 34600. However, the betweenness of some of the nodes is reduced to zero even though the nodes are in the same clique as the two primary nodes. "
   ]
  },
  {
   "cell_type": "code",
   "execution_count": 62,
   "metadata": {},
   "outputs": [
    {
     "name": "stdout",
     "output_type": "stream",
     "text": [
      "     node  closeness\n",
      "2   34592   0.789474\n",
      "0   34594   0.750000\n",
      "1   34597   0.714286\n",
      "7   34596   0.714286\n",
      "10  34598   0.714286\n",
      "15  34599   0.652174\n",
      "5   34590   0.555556\n",
      "6   34591   0.555556\n",
      "8   34595   0.555556\n",
      "9   34593   0.555556\n",
      "13  34589   0.555556\n",
      "14  34588   0.555556\n",
      "3   34602   0.500000\n",
      "4   34601   0.500000\n",
      "12  34603   0.500000\n",
      "11  34600   0.454545\n"
     ]
    }
   ],
   "source": [
    "# compute node closeness of a graph\n",
    "closeness = nx.closeness_centrality(comp_A)\n",
    "\n",
    "# convert it to pandas dataframe\n",
    "df_closeness = pd.DataFrame(list(closeness.items()), columns=[\"node\", \"closeness\"])\n",
    "\n",
    "# sort nodes by closeness in descending order\n",
    "df_closeness=df_closeness.sort_values(\"closeness\", ascending=False)\n",
    "print(df_closeness)"
   ]
  },
  {
   "cell_type": "markdown",
   "metadata": {},
   "source": [
    "Closeness centrality produces similar results but gives a better sense of some of the less important nodes and their closeness to the primary nodes. These results suggest there are actually 4 nodes that are the furthest from the two primary with 34600 being the furthest. "
   ]
  },
  {
   "cell_type": "code",
   "execution_count": 63,
   "metadata": {},
   "outputs": [
    {
     "name": "stdout",
     "output_type": "stream",
     "text": [
      "     node  eigenvector centrality\n",
      "2   34592                0.368005\n",
      "0   34594                0.343403\n",
      "1   34597                0.267535\n",
      "7   34596                0.267535\n",
      "10  34598                0.267535\n",
      "5   34590                0.252391\n",
      "6   34591                0.252391\n",
      "8   34595                0.252391\n",
      "9   34593                0.252391\n",
      "13  34589                0.252391\n",
      "14  34588                0.252391\n",
      "15  34599                0.216954\n",
      "3   34602                0.175224\n",
      "4   34601                0.175224\n",
      "12  34603                0.175224\n",
      "11  34600                0.102653\n"
     ]
    }
   ],
   "source": [
    "# compute node eigenvector centrality of a graph\n",
    "eigen = nx.eigenvector_centrality(comp_A)\n",
    "\n",
    "# convert it to pandas dataframe\n",
    "df_eigen = pd.DataFrame(list(eigen.items()), columns=[\"node\", \"eigenvector centrality\"])\n",
    "\n",
    "# sort nodes by eivenvector centrality in descending order\n",
    "df_eigen=df_eigen.sort_values(\"eigenvector centrality\", ascending=False)\n",
    "print(df_eigen)"
   ]
  },
  {
   "cell_type": "markdown",
   "metadata": {},
   "source": [
    "The eigenvector centrality method again produces results that correspond to the second and first method, but like the second method gives a better sense of the actual closeness of the bottom nodes to the top nodes rather than reducing the value of centrality to zero as in method 1. "
   ]
  },
  {
   "cell_type": "code",
   "execution_count": 64,
   "metadata": {},
   "outputs": [
    {
     "name": "stdout",
     "output_type": "stream",
     "text": [
      "     node  pagerank\n",
      "2   34592  0.087800\n",
      "0   34594  0.080405\n",
      "1   34597  0.076243\n",
      "7   34596  0.076243\n",
      "10  34598  0.076243\n",
      "15  34599  0.060488\n",
      "5   34590  0.058530\n",
      "6   34591  0.058530\n",
      "8   34595  0.058530\n",
      "9   34593  0.058530\n",
      "13  34589  0.058530\n",
      "14  34588  0.058530\n",
      "3   34602  0.053473\n",
      "4   34601  0.053473\n",
      "12  34603  0.053473\n",
      "11  34600  0.030977\n"
     ]
    }
   ],
   "source": [
    "# compute node PageRank centrality of a graph\n",
    "pagerank = nx.pagerank_numpy(comp_A)\n",
    "\n",
    "# convert it to pandas dataframe\n",
    "df_pagerank = pd.DataFrame(list(pagerank.items()), columns=[\"node\", \"pagerank\"])\n",
    "\n",
    "# sort nodes by pagerank in descending order\n",
    "df_pagerank=df_pagerank.sort_values(\"pagerank\", ascending=False)\n",
    "print(df_pagerank)"
   ]
  },
  {
   "cell_type": "markdown",
   "metadata": {},
   "source": [
    "Just for fun, the page rank algorithm produces identical results to method 2 and 3. "
   ]
  },
  {
   "cell_type": "code",
   "execution_count": null,
   "metadata": {},
   "outputs": [],
   "source": []
  }
 ],
 "metadata": {
  "kernelspec": {
   "display_name": "Python 3",
   "language": "python",
   "name": "python3"
  },
  "language_info": {
   "codemirror_mode": {
    "name": "ipython",
    "version": 3
   },
   "file_extension": ".py",
   "mimetype": "text/x-python",
   "name": "python",
   "nbconvert_exporter": "python",
   "pygments_lexer": "ipython3",
   "version": "3.6.7"
  }
 },
 "nbformat": 4,
 "nbformat_minor": 2
}
