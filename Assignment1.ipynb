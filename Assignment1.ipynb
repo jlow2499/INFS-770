{
 "cells": [
  {
   "cell_type": "markdown",
   "metadata": {},
   "source": [
    "# Jeremiah Lowhorn\n",
    "# INFS 770 Spring Assignment 1\n",
    "# 2/4/2019"
   ]
  },
  {
   "cell_type": "markdown",
   "metadata": {},
   "source": [
    "# Task 2\n",
    "\n",
    "Classification using scikit-learn and pandas \n",
    "\n",
    "[Dataset: magic04.csv]\n",
    "\n",
    "https://archive.ics.uci.edu/ml/datasets/MAGIC+Gamma+Telescope\n",
    "\n",
    "For this problem you will experiment with various classifiers provided as part of the scikit-learn (sklearn) machine learning module, as well as with some of its preprocessing and model evaluation capabilities.  The data is provided in a CSV formatted file with the first row containing the attribute names. Click “Data Folder”, and you can download the dataset to your PC by right-clicking and then selecting “save link as” the magic04.data link. The description of the different fields in the data is provided at http://archive.ics.uci.edu/ml/machine-learning-databases/magic/magic04.names.\n",
    "In this assignment, you need to use the scikit-learn package, the main machine learning package in python. Please take a look at the scikit-learn home page (http://scikit-learn.org/stable/index.html) to get an overview of the package.\n",
    "You want to make sure the scikit-learn package you are using is the latest one (v20). If you installed anaconda recently, you should have the latest version. If you plan to use pycharm + canopy, please go to canopy command line and type “pip install –U scikit-learn” just to make sure you have the latest version of scikit learn.\n",
    "Please write a ipython notebook to finish the following tasks. You probably want to finish the task by modifying the German credit notebook."
   ]
  },
  {
   "cell_type": "markdown",
   "metadata": {},
   "source": [
    "## Importing Libraries"
   ]
  },
  {
   "cell_type": "code",
   "execution_count": 30,
   "metadata": {},
   "outputs": [
    {
     "name": "stdout",
     "output_type": "stream",
     "text": [
      "256\n"
     ]
    }
   ],
   "source": [
    "import pandas as pd\n",
    "from sklearn.linear_model import LogisticRegression\n",
    "from sklearn import metrics\n",
    "import numpy as np\n",
    "from sklearn.model_selection import GridSearchCV\n",
    "from sklearn.metrics import classification_report\n",
    "from sklearn.model_selection import train_test_split\n",
    "from sklearn.svm import SVC\n",
    "import multiprocessing\n",
    "import matplotlib.pyplot as plt\n",
    "from sklearn import preprocessing\n",
    "print(multiprocessing.cpu_count())\n",
    "### do not use all cores\n",
    "n_cores = 50\n",
    "import seaborn as sns"
   ]
  },
  {
   "cell_type": "markdown",
   "metadata": {},
   "source": [
    "## Reading Data"
   ]
  },
  {
   "cell_type": "code",
   "execution_count": 31,
   "metadata": {},
   "outputs": [],
   "source": [
    "nms = ['fLength','fWidth','fSize','fConc','fConc1','fAsym','fM3Long','fMTrans','fAlpha','fDist','class']\n",
    "df = pd.read_csv('https://archive.ics.uci.edu/ml/machine-learning-databases/magic/magic04.data',names=nms)"
   ]
  },
  {
   "cell_type": "code",
   "execution_count": 32,
   "metadata": {},
   "outputs": [
    {
     "data": {
      "text/html": [
       "<div>\n",
       "<style scoped>\n",
       "    .dataframe tbody tr th:only-of-type {\n",
       "        vertical-align: middle;\n",
       "    }\n",
       "\n",
       "    .dataframe tbody tr th {\n",
       "        vertical-align: top;\n",
       "    }\n",
       "\n",
       "    .dataframe thead th {\n",
       "        text-align: right;\n",
       "    }\n",
       "</style>\n",
       "<table border=\"1\" class=\"dataframe\">\n",
       "  <thead>\n",
       "    <tr style=\"text-align: right;\">\n",
       "      <th></th>\n",
       "      <th>fLength</th>\n",
       "      <th>fWidth</th>\n",
       "      <th>fSize</th>\n",
       "      <th>fConc</th>\n",
       "      <th>fConc1</th>\n",
       "      <th>fAsym</th>\n",
       "      <th>fM3Long</th>\n",
       "      <th>fMTrans</th>\n",
       "      <th>fAlpha</th>\n",
       "      <th>fDist</th>\n",
       "      <th>class</th>\n",
       "    </tr>\n",
       "  </thead>\n",
       "  <tbody>\n",
       "    <tr>\n",
       "      <th>0</th>\n",
       "      <td>28.7967</td>\n",
       "      <td>16.0021</td>\n",
       "      <td>2.6449</td>\n",
       "      <td>0.3918</td>\n",
       "      <td>0.1982</td>\n",
       "      <td>27.7004</td>\n",
       "      <td>22.0110</td>\n",
       "      <td>-8.2027</td>\n",
       "      <td>40.0920</td>\n",
       "      <td>81.8828</td>\n",
       "      <td>g</td>\n",
       "    </tr>\n",
       "    <tr>\n",
       "      <th>1</th>\n",
       "      <td>31.6036</td>\n",
       "      <td>11.7235</td>\n",
       "      <td>2.5185</td>\n",
       "      <td>0.5303</td>\n",
       "      <td>0.3773</td>\n",
       "      <td>26.2722</td>\n",
       "      <td>23.8238</td>\n",
       "      <td>-9.9574</td>\n",
       "      <td>6.3609</td>\n",
       "      <td>205.2610</td>\n",
       "      <td>g</td>\n",
       "    </tr>\n",
       "    <tr>\n",
       "      <th>2</th>\n",
       "      <td>162.0520</td>\n",
       "      <td>136.0310</td>\n",
       "      <td>4.0612</td>\n",
       "      <td>0.0374</td>\n",
       "      <td>0.0187</td>\n",
       "      <td>116.7410</td>\n",
       "      <td>-64.8580</td>\n",
       "      <td>-45.2160</td>\n",
       "      <td>76.9600</td>\n",
       "      <td>256.7880</td>\n",
       "      <td>g</td>\n",
       "    </tr>\n",
       "    <tr>\n",
       "      <th>3</th>\n",
       "      <td>23.8172</td>\n",
       "      <td>9.5728</td>\n",
       "      <td>2.3385</td>\n",
       "      <td>0.6147</td>\n",
       "      <td>0.3922</td>\n",
       "      <td>27.2107</td>\n",
       "      <td>-6.4633</td>\n",
       "      <td>-7.1513</td>\n",
       "      <td>10.4490</td>\n",
       "      <td>116.7370</td>\n",
       "      <td>g</td>\n",
       "    </tr>\n",
       "    <tr>\n",
       "      <th>4</th>\n",
       "      <td>75.1362</td>\n",
       "      <td>30.9205</td>\n",
       "      <td>3.1611</td>\n",
       "      <td>0.3168</td>\n",
       "      <td>0.1832</td>\n",
       "      <td>-5.5277</td>\n",
       "      <td>28.5525</td>\n",
       "      <td>21.8393</td>\n",
       "      <td>4.6480</td>\n",
       "      <td>356.4620</td>\n",
       "      <td>g</td>\n",
       "    </tr>\n",
       "  </tbody>\n",
       "</table>\n",
       "</div>"
      ],
      "text/plain": [
       "    fLength    fWidth   fSize   fConc  fConc1     fAsym  fM3Long  fMTrans  \\\n",
       "0   28.7967   16.0021  2.6449  0.3918  0.1982   27.7004  22.0110  -8.2027   \n",
       "1   31.6036   11.7235  2.5185  0.5303  0.3773   26.2722  23.8238  -9.9574   \n",
       "2  162.0520  136.0310  4.0612  0.0374  0.0187  116.7410 -64.8580 -45.2160   \n",
       "3   23.8172    9.5728  2.3385  0.6147  0.3922   27.2107  -6.4633  -7.1513   \n",
       "4   75.1362   30.9205  3.1611  0.3168  0.1832   -5.5277  28.5525  21.8393   \n",
       "\n",
       "    fAlpha     fDist class  \n",
       "0  40.0920   81.8828     g  \n",
       "1   6.3609  205.2610     g  \n",
       "2  76.9600  256.7880     g  \n",
       "3  10.4490  116.7370     g  \n",
       "4   4.6480  356.4620     g  "
      ]
     },
     "execution_count": 32,
     "metadata": {},
     "output_type": "execute_result"
    }
   ],
   "source": [
    "##everything checks out here\n",
    "df.head()"
   ]
  },
  {
   "cell_type": "code",
   "execution_count": 33,
   "metadata": {},
   "outputs": [
    {
     "name": "stdout",
     "output_type": "stream",
     "text": [
      "<class 'pandas.core.frame.DataFrame'>\n",
      "RangeIndex: 19020 entries, 0 to 19019\n",
      "Data columns (total 11 columns):\n",
      "fLength    19020 non-null float64\n",
      "fWidth     19020 non-null float64\n",
      "fSize      19020 non-null float64\n",
      "fConc      19020 non-null float64\n",
      "fConc1     19020 non-null float64\n",
      "fAsym      19020 non-null float64\n",
      "fM3Long    19020 non-null float64\n",
      "fMTrans    19020 non-null float64\n",
      "fAlpha     19020 non-null float64\n",
      "fDist      19020 non-null float64\n",
      "class      19020 non-null object\n",
      "dtypes: float64(10), object(1)\n",
      "memory usage: 1.6+ MB\n"
     ]
    }
   ],
   "source": [
    "##correct types were read in\n",
    "df.info()"
   ]
  },
  {
   "cell_type": "code",
   "execution_count": 34,
   "metadata": {},
   "outputs": [
    {
     "data": {
      "text/plain": [
       "False"
      ]
     },
     "execution_count": 34,
     "metadata": {},
     "output_type": "execute_result"
    }
   ],
   "source": [
    "##no na/null values in the dataset\n",
    "df.isnull().any().any()"
   ]
  },
  {
   "cell_type": "markdown",
   "metadata": {},
   "source": [
    "## Splitting Data into Training And Test Sets\n",
    "We also want to scale the data here because the SVM algorithm is sensitive to the data all being on the same scale for the hyperplane. "
   ]
  },
  {
   "cell_type": "code",
   "execution_count": 35,
   "metadata": {},
   "outputs": [],
   "source": [
    "X_train, X_test, y_train, y_test = train_test_split(\n",
    "df, df['class'], random_state=42, test_size = 0.35)\n",
    "\n",
    "X_train = X_train.drop(['class'], 1)\n",
    "X_test = X_test.drop(['class'], 1)\n",
    "\n",
    "X_train = np.array(X_train)\n",
    "X_train = preprocessing.scale(X_train)\n",
    "y_train = np.array(y_train)\n",
    "X_test = np.array(X_test)\n",
    "X_test = preprocessing.scale(X_test)\n",
    "y_test = np.array(y_test) "
   ]
  },
  {
   "cell_type": "markdown",
   "metadata": {},
   "source": [
    "## Logistic Regression"
   ]
  },
  {
   "cell_type": "markdown",
   "metadata": {},
   "source": [
    "### Hyperparameter Tuning - L2 Regularization\n",
    "With a lambda value of 1 no regularization is needed for this model. "
   ]
  },
  {
   "cell_type": "code",
   "execution_count": 36,
   "metadata": {},
   "outputs": [
    {
     "data": {
      "text/plain": [
       "{'C': 0.005}"
      ]
     },
     "execution_count": 36,
     "metadata": {},
     "output_type": "execute_result"
    }
   ],
   "source": [
    "#tuning lambda for regularization\n",
    "lambdaval = [0.0001,0.0005,0.001,0.005,0.01,0.05,0.1,0.5,1]\n",
    "\n",
    "lamda_grid = {'C': lambdaval}\n",
    "\n",
    "logreg = LogisticRegression(class_weight='balanced',penalty='l2',solver='liblinear')\n",
    "logsearch = GridSearchCV(estimator = logreg, param_grid  = lamda_grid, cv = 10,\n",
    "                                n_jobs = n_cores\n",
    "                              )\n",
    "logsearch.fit(X_train, y_train)\n",
    "\n",
    "logsearch.best_params_"
   ]
  },
  {
   "cell_type": "markdown",
   "metadata": {},
   "source": [
    "### Building the Model"
   ]
  },
  {
   "cell_type": "code",
   "execution_count": 37,
   "metadata": {},
   "outputs": [],
   "source": [
    "mod1 = LogisticRegression(**logsearch.best_params_,solver='liblinear',class_weight='balanced').fit(X_train, y_train)"
   ]
  },
  {
   "cell_type": "markdown",
   "metadata": {},
   "source": [
    "### Printing the Accuracy - Inside a Confusion Matrix"
   ]
  },
  {
   "cell_type": "code",
   "execution_count": 38,
   "metadata": {},
   "outputs": [],
   "source": [
    "score1 = mod1.score(X_test, y_test)"
   ]
  },
  {
   "cell_type": "code",
   "execution_count": 39,
   "metadata": {},
   "outputs": [
    {
     "data": {
      "image/png": "[encoded data removed]",
      "text/plain": [
       "<Figure size 648x648 with 2 Axes>"
      ]
     },
     "metadata": {
      "needs_background": "light"
     },
     "output_type": "display_data"
    }
   ],
   "source": [
    "predictions = mod1.predict(X_test)\n",
    "cm = metrics.confusion_matrix(y_test, predictions)\n",
    "plt.figure(figsize=(9,9))\n",
    "sns.heatmap(cm, annot=True, fmt=\".3f\", linewidths=.5, square = True, cmap = 'Blues_r');\n",
    "plt.ylabel('Actual label');\n",
    "plt.xlabel('Predicted label');\n",
    "all_sample_title = 'Accuracy Score: {0}'.format(score1)\n",
    "plt.title(all_sample_title, size = 15);"
   ]
  },
  {
   "cell_type": "markdown",
   "metadata": {},
   "source": [
    "### Extract the Coefficients \n",
    "I use this to determine what variables attribute to the model; in this case fConc and fConc1 seem sto have the largest impact on the log odds of g vs h. We may see similar accuracy from just using two or three of the most important features, especially considering our grid search thought that not using regularization was the best outcome, but that seems out of scope for this assignment. "
   ]
  },
  {
   "cell_type": "code",
   "execution_count": 40,
   "metadata": {},
   "outputs": [
    {
     "name": "stdout",
     "output_type": "stream",
     "text": [
      "Logistic Regression Intercept: -0.06953775027194224\n"
     ]
    }
   ],
   "source": [
    "print('Logistic Regression Intercept: ' + str(mod1.intercept_[0]))"
   ]
  },
  {
   "cell_type": "code",
   "execution_count": 41,
   "metadata": {},
   "outputs": [
    {
     "name": "stdout",
     "output_type": "stream",
     "text": [
      "Logistic Regression Coefficients: \n"
     ]
    },
    {
     "data": {
      "text/plain": [
       "{'fLength': 0.8168691664000232,\n",
       " 'fWidth': 0.23827521821347628,\n",
       " 'fSize': 0.22714268908415264,\n",
       " 'fConc': 0.18139949938391514,\n",
       " 'fConc1': 0.3352775247874215,\n",
       " 'fAsym': -0.08635412912651165,\n",
       " 'fM3Long': -0.2559924035438201,\n",
       " 'fMTrans': -0.00048284289441027033,\n",
       " 'fAlpha': 1.033551727497531,\n",
       " 'fDist': 0.05649740577071855}"
      ]
     },
     "execution_count": 41,
     "metadata": {},
     "output_type": "execute_result"
    }
   ],
   "source": [
    "coef_dict = {}\n",
    "for coef, feat in zip(mod1.coef_[0,:],df):\n",
    "    coef_dict[feat] = coef\n",
    "print(\"Logistic Regression Coefficients: \")\n",
    "coef_dict"
   ]
  },
  {
   "cell_type": "markdown",
   "metadata": {},
   "source": [
    "### Classification Report"
   ]
  },
  {
   "cell_type": "code",
   "execution_count": 42,
   "metadata": {
    "scrolled": true
   },
   "outputs": [
    {
     "name": "stdout",
     "output_type": "stream",
     "text": [
      "              precision    recall  f1-score   support\n",
      "\n",
      "           g       0.84      0.82      0.83      4315\n",
      "           h       0.69      0.72      0.70      2342\n",
      "\n",
      "   micro avg       0.78      0.78      0.78      6657\n",
      "   macro avg       0.76      0.77      0.77      6657\n",
      "weighted avg       0.79      0.78      0.79      6657\n",
      "\n"
     ]
    }
   ],
   "source": [
    "print(classification_report(y_test, predictions))"
   ]
  },
  {
   "cell_type": "markdown",
   "metadata": {},
   "source": [
    "## SVM"
   ]
  },
  {
   "cell_type": "markdown",
   "metadata": {},
   "source": [
    "### Hyperparameter Tuning"
   ]
  },
  {
   "cell_type": "code",
   "execution_count": 43,
   "metadata": {},
   "outputs": [
    {
     "data": {
      "text/plain": [
       "{'C': 1, 'kernel': 'rbf'}"
      ]
     },
     "execution_count": 43,
     "metadata": {},
     "output_type": "execute_result"
    }
   ],
   "source": [
    "lambdaval = [0.001,0.01,0.1,1]\n",
    "kernel = ['linear','rbf']\n",
    "\n",
    "\n",
    "svm_grid = {'C': lambdaval,\n",
    "             'kernel':kernel}\n",
    "\n",
    "svm = SVC()\n",
    "svmsearch = GridSearchCV(estimator = svm, param_grid  = svm_grid, cv = 3,\n",
    "                                n_jobs = n_cores\n",
    "                              )\n",
    "svmsearch.fit(X_train, y_train)\n",
    "\n",
    "svmsearch.best_params_"
   ]
  },
  {
   "cell_type": "code",
   "execution_count": 44,
   "metadata": {},
   "outputs": [],
   "source": [
    "mod2 = SVC(**svmsearch.best_params_).fit(X_train, y_train)"
   ]
  },
  {
   "cell_type": "markdown",
   "metadata": {},
   "source": [
    "### Print the Accuracy - Inside a Confusion Matrix\n",
    "The SVM algorithm is much more accurate than the logistic regression model because we preprocessed and scaled the data appropriately. Had we not rescaled the data the accuracy between the two methods probably would not be vastly different. "
   ]
  },
  {
   "cell_type": "code",
   "execution_count": 45,
   "metadata": {},
   "outputs": [],
   "source": [
    "score2 = mod2.score(X_test, y_test)"
   ]
  },
  {
   "cell_type": "code",
   "execution_count": 46,
   "metadata": {},
   "outputs": [
    {
     "data": {
      "image/png": "[encoded data removed]",
      "text/plain": [
       "<Figure size 648x648 with 2 Axes>"
      ]
     },
     "metadata": {
      "needs_background": "light"
     },
     "output_type": "display_data"
    }
   ],
   "source": [
    "predictions = mod2.predict(X_test)\n",
    "cm = metrics.confusion_matrix(y_test, predictions)\n",
    "plt.figure(figsize=(9,9))\n",
    "sns.heatmap(cm, annot=True, fmt=\".3f\", linewidths=.5, square = True, cmap = 'Blues_r');\n",
    "plt.ylabel('Actual label');\n",
    "plt.xlabel('Predicted label');\n",
    "all_sample_title = 'Accuracy Score: {0}'.format(score2)\n",
    "plt.title(all_sample_title, size = 15);"
   ]
  },
  {
   "cell_type": "code",
   "execution_count": 47,
   "metadata": {},
   "outputs": [
    {
     "name": "stdout",
     "output_type": "stream",
     "text": [
      "True\n",
      "0.08502328376145418\n"
     ]
    }
   ],
   "source": [
    "print(score2 > score1)\n",
    "print(score2 - score1)"
   ]
  },
  {
   "cell_type": "markdown",
   "metadata": {},
   "source": [
    "### Classification Report"
   ]
  },
  {
   "cell_type": "code",
   "execution_count": 48,
   "metadata": {},
   "outputs": [
    {
     "name": "stdout",
     "output_type": "stream",
     "text": [
      "              precision    recall  f1-score   support\n",
      "\n",
      "           g       0.86      0.95      0.90      4315\n",
      "           h       0.89      0.72      0.80      2342\n",
      "\n",
      "   micro avg       0.87      0.87      0.87      6657\n",
      "   macro avg       0.88      0.84      0.85      6657\n",
      "weighted avg       0.87      0.87      0.87      6657\n",
      "\n"
     ]
    }
   ],
   "source": [
    "print(classification_report(y_test, predictions))"
   ]
  },
  {
   "cell_type": "markdown",
   "metadata": {},
   "source": [
    "# Part 4\n",
    "### 1)\tPlease use your own language to describe the SVM algorithm (5-10 sentences)\n",
    "### 2)\tPlease use your own language to describe how soft margin svm is different from hard-margin SVM.(<=3 sentences)\n",
    "### 3)\tWhy do you often need to use kernels in SVM? (<3 sentences)\n"
   ]
  },
  {
   "cell_type": "markdown",
   "metadata": {},
   "source": [
    "## 1\n",
    "A support vector machine is a classification algorithm that uses a hyperplane to separate the class. The data is transformed via a kernel function to make the data seperatable by a hyperplane. The hyperplane can be n-dimensional based upon the number of features in the data. There are different kernels for different types of hyperplanes and parameters that control the complexity of the hyperplane. For example, a linear kernel function would simply draw a line in a two dimensional space to split the data. Regularization and gamma parameters are important for tuning the SVM. Regularization follows the same principal in other models in that a lambda value penalizes certain features so that they do not overfit the model which will help it generalize better on new data. Essentially for larger values of C the SVM optimizer will choose a smaller-margin hyperplane to get all of the points correctly classified; for lower values of C the algorithm will find a larger-margin hyperplane. The gamma value allows for smoothing of the rbf and polynomial kernel; higher values of gamma allow for more smoothing while lower values create more jagged hyperplanes that try to classify every point, even if it is an outlier. A big assumption that is often missed is that the training data is on the same scale. This important for the transformation to make the data linearly seperable. "
   ]
  },
  {
   "cell_type": "markdown",
   "metadata": {},
   "source": [
    "## 2\n",
    "Hard margin SVMs essentially result in fitting models that allow zero errors whereas soft margins allows for errors to be made in the fitting processs. Soft margins allow for a more generalizable model where hard margins can allow the algorithm to fit perfectly to the data even in the presence of outliers. "
   ]
  },
  {
   "cell_type": "markdown",
   "metadata": {},
   "source": [
    "## 3\n",
    "Kernels allow for fitting different hyperplanes to the data. For example if the data, once transformed is linearly seperable the linear kernel would fit a linear hyperplane to the data. However, if the separation is not clearly linear, maybe circular, the rbf kernel would allow the creation of a hyperplane that is circular in nature with the appropriate gamma. Conversley, if the hyperplane is quadratic, a linear kernel would not work as well as a polynomial kernel.  "
   ]
  },
  {
   "cell_type": "code",
   "execution_count": null,
   "metadata": {},
   "outputs": [],
   "source": []
  }
 ],
 "metadata": {
  "kernelspec": {
   "display_name": "Python 3",
   "language": "python",
   "name": "python3"
  },
  "language_info": {
   "codemirror_mode": {
    "name": "ipython",
    "version": 3
   },
   "file_extension": ".py",
   "mimetype": "text/x-python",
   "name": "python",
   "nbconvert_exporter": "python",
   "pygments_lexer": "ipython3",
   "version": "3.6.7"
  }
 },
 "nbformat": 4,
 "nbformat_minor": 2
}
